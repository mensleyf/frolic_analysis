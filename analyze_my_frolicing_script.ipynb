{
 "cells": [
  {
   "cell_type": "markdown",
   "metadata": {},
   "source": [
    "# User input; only parameter"
   ]
  },
  {
   "cell_type": "code",
   "execution_count": 153,
   "metadata": {},
   "outputs": [],
   "source": [
    "user_input=\"C:/Users/A02315404/Downloads/Navajo_Knobs.gpx\"\n",
    "#user_input=\"C:/Users/A02315404/Downloads/Temple_Fork.gpx\"\n",
    "#user_input = \"C:/Users/A02315404/Downloads/GPS tracks/Little_Black_Mountain_trail_run_with_Matt.gpx\""
   ]
  },
  {
   "cell_type": "markdown",
   "metadata": {},
   "source": [
    "# Importing modules, naming data folders"
   ]
  },
  {
   "cell_type": "code",
   "execution_count": 154,
   "metadata": {},
   "outputs": [],
   "source": [
    "#modules (environ = raster_proj)\n",
    "import arcpy\n",
    "import os\n",
    "#import classtools\n",
    "arcpy.CheckOutExtension('spatial')\n",
    "from arcpy import env\n",
    "from arcpy.sa import *\n",
    "import rasterio\n",
    "import csv\n",
    "import numpy as np\n",
    "import gdal\n",
    "\n",
    "arcpy.overwriteoutput = True\n",
    "\n",
    "filename = os.path.split(user_input)[1]\n",
    "filename = filename.replace(\".gpx\", \"\")\n",
    "\n",
    "#folders\n",
    "conv_data_folder = r'C:\\Users\\A02315404\\Documents\\python\\frolic_analysis\\data_converted'\n",
    "data_folder = r'C:\\Users\\A02315404\\Documents\\python\\frolic_analysis\\data'\n",
    "data_orig_folder = r'C:\\Users\\A02315404\\Documents\\python\\frolic_analysis\\data_orig'\n",
    "int_folder = r'C:\\Users\\A02315404\\Documents\\python\\frolic_analysis\\intersections'\n",
    "in_folder = r'C:\\Users\\A02315404\\Documents\\python\\frolic_analysis\\data_gpx_files'\n",
    "out_folder = r'C:\\Users\\A02315404\\Documents\\python\\frolic_analysis\\data_converted'\n",
    "frolic_folder = r'C:\\Users\\A02315404\\Documents\\python\\frolic_analysis'\n",
    "\n",
    "arcpy.env.workspace = data_folder\n",
    "\n",
    "#shape/image data\n",
    "rock = os.path.join(data_orig_folder, \"rock.tif\")\n",
    "nlcd = os.path.join(data_orig_folder, \"nlcd.tif\")\n",
    "nlcd_key = os.path.join(data_orig_folder, \"nlcd_key.csv\")\n",
    "rock_key = os.path.join(data_orig_folder, \"rock_key.csv\")\n",
    "eco3 = os.path.join(data_orig_folder, \"ecoregionsL3.shp\")\n",
    "eco4 = os.path.join(data_orig_folder, \"ecoregionsL4.shp\")\n",
    "\n",
    "\n",
    "#trail (from user input)\n",
    "trail =  os.path.join(conv_data_folder, filename) + \".shp\"\n",
    "output_name_shp = os.path.join(out_folder, filename)+ \".shp\"\n",
    "output_name_tif = os.path.join(out_folder, filename)+ \".tif\"\n",
    "out_name_nlcd=os.path.join(int_folder, filename) + \"_nlcd.tif\"\n",
    "out_name_rock=os.path.join(int_folder, filename) + \"_rock.tif\"\n",
    "temp_fn = os.path.join(frolic_folder, filename) + '_test_maps.pdf'\n",
    "pdf_fn = os.path.join(frolic_folder, filename) + '_maps.pdf'\n"
   ]
  },
  {
   "cell_type": "markdown",
   "metadata": {},
   "source": [
    "# Converting user_input (.gpx) to .tif and  .shp files"
   ]
  },
  {
   "cell_type": "code",
   "execution_count": 155,
   "metadata": {},
   "outputs": [
    {
     "ename": "ExecuteError",
     "evalue": "Failed to execute. Parameters are not valid.\nERROR 000725: Output Feature class: Dataset C:\\Users\\A02315404\\Documents\\python\\frolic_analysis\\data_converted\\Navajo_Knobs.shp already exists.\nFailed to execute (GPXtoFeatures).\n",
     "output_type": "error",
     "traceback": [
      "\u001b[1;31m---------------------------------------------------------------------------\u001b[0m",
      "\u001b[1;31mExecuteError\u001b[0m                              Traceback (most recent call last)",
      "\u001b[1;32m<ipython-input-155-1b247d7057b8>\u001b[0m in \u001b[0;36m<module>\u001b[1;34m\u001b[0m\n\u001b[0;32m      1\u001b[0m \u001b[1;31m#print(filename,\"\\n\", output_name_shp, \"\\n\", output_name_tif)\u001b[0m\u001b[1;33m\u001b[0m\u001b[1;33m\u001b[0m\u001b[1;33m\u001b[0m\u001b[0m\n\u001b[1;32m----> 2\u001b[1;33m \u001b[0marcpy\u001b[0m\u001b[1;33m.\u001b[0m\u001b[0mGPXtoFeatures_conversion\u001b[0m\u001b[1;33m(\u001b[0m\u001b[0muser_input\u001b[0m\u001b[1;33m,\u001b[0m \u001b[0moutput_name_shp\u001b[0m\u001b[1;33m)\u001b[0m\u001b[1;33m\u001b[0m\u001b[1;33m\u001b[0m\u001b[0m\n\u001b[0m\u001b[0;32m      3\u001b[0m arcpy.conversion.PointToRaster(in_features=output_name_shp, \n\u001b[0;32m      4\u001b[0m                                \u001b[0mvalue_field\u001b[0m\u001b[1;33m=\u001b[0m\u001b[1;34m'FID'\u001b[0m\u001b[1;33m,\u001b[0m\u001b[1;33m\u001b[0m\u001b[1;33m\u001b[0m\u001b[0m\n\u001b[0;32m      5\u001b[0m                                out_rasterdataset=output_name_tif)\n",
      "\u001b[1;32mC:\\Program Files\\ArcGIS\\Pro\\Resources\\ArcPy\\arcpy\\conversion.py\u001b[0m in \u001b[0;36mGPXtoFeatures\u001b[1;34m(Input_GPX_File, Output_Feature_class)\u001b[0m\n\u001b[0;32m    453\u001b[0m         \u001b[1;32mreturn\u001b[0m \u001b[0mretval\u001b[0m\u001b[1;33m\u001b[0m\u001b[1;33m\u001b[0m\u001b[0m\n\u001b[0;32m    454\u001b[0m     \u001b[1;32mexcept\u001b[0m \u001b[0mException\u001b[0m \u001b[1;32mas\u001b[0m \u001b[0me\u001b[0m\u001b[1;33m:\u001b[0m\u001b[1;33m\u001b[0m\u001b[1;33m\u001b[0m\u001b[0m\n\u001b[1;32m--> 455\u001b[1;33m         \u001b[1;32mraise\u001b[0m \u001b[0me\u001b[0m\u001b[1;33m\u001b[0m\u001b[1;33m\u001b[0m\u001b[0m\n\u001b[0m\u001b[0;32m    456\u001b[0m \u001b[1;33m\u001b[0m\u001b[0m\n\u001b[0;32m    457\u001b[0m \u001b[1;33m\u001b[0m\u001b[0m\n",
      "\u001b[1;32mC:\\Program Files\\ArcGIS\\Pro\\Resources\\ArcPy\\arcpy\\conversion.py\u001b[0m in \u001b[0;36mGPXtoFeatures\u001b[1;34m(Input_GPX_File, Output_Feature_class)\u001b[0m\n\u001b[0;32m    450\u001b[0m     \u001b[1;32mfrom\u001b[0m \u001b[0marcpy\u001b[0m\u001b[1;33m.\u001b[0m\u001b[0marcobjects\u001b[0m\u001b[1;33m.\u001b[0m\u001b[0marcobjectconversion\u001b[0m \u001b[1;32mimport\u001b[0m \u001b[0mconvertArcObjectToPythonObject\u001b[0m\u001b[1;33m\u001b[0m\u001b[1;33m\u001b[0m\u001b[0m\n\u001b[0;32m    451\u001b[0m     \u001b[1;32mtry\u001b[0m\u001b[1;33m:\u001b[0m\u001b[1;33m\u001b[0m\u001b[1;33m\u001b[0m\u001b[0m\n\u001b[1;32m--> 452\u001b[1;33m         \u001b[0mretval\u001b[0m \u001b[1;33m=\u001b[0m \u001b[0mconvertArcObjectToPythonObject\u001b[0m\u001b[1;33m(\u001b[0m\u001b[0mgp\u001b[0m\u001b[1;33m.\u001b[0m\u001b[0mGPXtoFeatures_conversion\u001b[0m\u001b[1;33m(\u001b[0m\u001b[1;33m*\u001b[0m\u001b[0mgp_fixargs\u001b[0m\u001b[1;33m(\u001b[0m\u001b[1;33m(\u001b[0m\u001b[0mInput_GPX_File\u001b[0m\u001b[1;33m,\u001b[0m \u001b[0mOutput_Feature_class\u001b[0m\u001b[1;33m)\u001b[0m\u001b[1;33m,\u001b[0m \u001b[1;32mTrue\u001b[0m\u001b[1;33m)\u001b[0m\u001b[1;33m)\u001b[0m\u001b[1;33m)\u001b[0m\u001b[1;33m\u001b[0m\u001b[1;33m\u001b[0m\u001b[0m\n\u001b[0m\u001b[0;32m    453\u001b[0m         \u001b[1;32mreturn\u001b[0m \u001b[0mretval\u001b[0m\u001b[1;33m\u001b[0m\u001b[1;33m\u001b[0m\u001b[0m\n\u001b[0;32m    454\u001b[0m     \u001b[1;32mexcept\u001b[0m \u001b[0mException\u001b[0m \u001b[1;32mas\u001b[0m \u001b[0me\u001b[0m\u001b[1;33m:\u001b[0m\u001b[1;33m\u001b[0m\u001b[1;33m\u001b[0m\u001b[0m\n",
      "\u001b[1;32mC:\\Program Files\\ArcGIS\\Pro\\Resources\\ArcPy\\arcpy\\geoprocessing\\_base.py\u001b[0m in \u001b[0;36m<lambda>\u001b[1;34m(*args)\u001b[0m\n\u001b[0;32m    509\u001b[0m         \u001b[0mval\u001b[0m \u001b[1;33m=\u001b[0m \u001b[0mgetattr\u001b[0m\u001b[1;33m(\u001b[0m\u001b[0mself\u001b[0m\u001b[1;33m.\u001b[0m\u001b[0m_gp\u001b[0m\u001b[1;33m,\u001b[0m \u001b[0mattr\u001b[0m\u001b[1;33m)\u001b[0m\u001b[1;33m\u001b[0m\u001b[1;33m\u001b[0m\u001b[0m\n\u001b[0;32m    510\u001b[0m         \u001b[1;32mif\u001b[0m \u001b[0mcallable\u001b[0m\u001b[1;33m(\u001b[0m\u001b[0mval\u001b[0m\u001b[1;33m)\u001b[0m\u001b[1;33m:\u001b[0m\u001b[1;33m\u001b[0m\u001b[1;33m\u001b[0m\u001b[0m\n\u001b[1;32m--> 511\u001b[1;33m             \u001b[1;32mreturn\u001b[0m \u001b[1;32mlambda\u001b[0m \u001b[1;33m*\u001b[0m\u001b[0margs\u001b[0m\u001b[1;33m:\u001b[0m \u001b[0mval\u001b[0m\u001b[1;33m(\u001b[0m\u001b[1;33m*\u001b[0m\u001b[0mgp_fixargs\u001b[0m\u001b[1;33m(\u001b[0m\u001b[0margs\u001b[0m\u001b[1;33m,\u001b[0m \u001b[1;32mTrue\u001b[0m\u001b[1;33m)\u001b[0m\u001b[1;33m)\u001b[0m\u001b[1;33m\u001b[0m\u001b[1;33m\u001b[0m\u001b[0m\n\u001b[0m\u001b[0;32m    512\u001b[0m         \u001b[1;32melse\u001b[0m\u001b[1;33m:\u001b[0m\u001b[1;33m\u001b[0m\u001b[1;33m\u001b[0m\u001b[0m\n\u001b[0;32m    513\u001b[0m             \u001b[1;32mreturn\u001b[0m \u001b[0mconvertArcObjectToPythonObject\u001b[0m\u001b[1;33m(\u001b[0m\u001b[0mval\u001b[0m\u001b[1;33m)\u001b[0m\u001b[1;33m\u001b[0m\u001b[1;33m\u001b[0m\u001b[0m\n",
      "\u001b[1;31mExecuteError\u001b[0m: Failed to execute. Parameters are not valid.\nERROR 000725: Output Feature class: Dataset C:\\Users\\A02315404\\Documents\\python\\frolic_analysis\\data_converted\\Navajo_Knobs.shp already exists.\nFailed to execute (GPXtoFeatures).\n"
     ]
    }
   ],
   "source": [
    "#print(filename,\"\\n\", output_name_shp, \"\\n\", output_name_tif)\n",
    "arcpy.GPXtoFeatures_conversion(user_input, output_name_shp)\n",
    "arcpy.conversion.PointToRaster(in_features=output_name_shp, \n",
    "                               value_field='FID', \n",
    "                               out_rasterdataset=output_name_tif)\n"
   ]
  },
  {
   "cell_type": "markdown",
   "metadata": {},
   "source": [
    "# Raster Stats "
   ]
  },
  {
   "cell_type": "code",
   "execution_count": 156,
   "metadata": {},
   "outputs": [
    {
     "ename": "RuntimeError",
     "evalue": "ERROR 000872: Output Raster: Dataset C:\\Users\\A02315404\\Documents\\python\\frolic_analysis\\intersections\\Navajo_Knobs_nlcd.tif already exists and cannot be overwritten since the Overwrite existing datasets option is disabled.",
     "output_type": "error",
     "traceback": [
      "\u001b[1;31m---------------------------------------------------------------------------\u001b[0m",
      "\u001b[1;31mRuntimeError\u001b[0m                              Traceback (most recent call last)",
      "\u001b[1;32m<ipython-input-156-9dcc4c7a607d>\u001b[0m in \u001b[0;36m<module>\u001b[1;34m\u001b[0m\n\u001b[0;32m     16\u001b[0m \u001b[1;31m#use ExtractByMask to make intersections\u001b[0m\u001b[1;33m\u001b[0m\u001b[1;33m\u001b[0m\u001b[1;33m\u001b[0m\u001b[0m\n\u001b[0;32m     17\u001b[0m \u001b[0moutExtractByMask\u001b[0m\u001b[1;33m=\u001b[0m\u001b[0mExtractByMask\u001b[0m\u001b[1;33m(\u001b[0m\u001b[0min_raster\u001b[0m\u001b[1;33m=\u001b[0m\u001b[0mnlcd\u001b[0m\u001b[1;33m,\u001b[0m \u001b[0min_mask_data\u001b[0m\u001b[1;33m=\u001b[0m\u001b[0mtrail\u001b[0m\u001b[1;33m)\u001b[0m\u001b[1;33m\u001b[0m\u001b[1;33m\u001b[0m\u001b[0m\n\u001b[1;32m---> 18\u001b[1;33m \u001b[0moutExtractByMask\u001b[0m\u001b[1;33m.\u001b[0m\u001b[0msave\u001b[0m\u001b[1;33m(\u001b[0m\u001b[0mout_name_nlcd\u001b[0m\u001b[1;33m)\u001b[0m\u001b[1;33m\u001b[0m\u001b[1;33m\u001b[0m\u001b[0m\n\u001b[0m\u001b[0;32m     19\u001b[0m \u001b[0moutExtractByMask\u001b[0m\u001b[1;33m=\u001b[0m\u001b[0mExtractByMask\u001b[0m\u001b[1;33m(\u001b[0m\u001b[0min_raster\u001b[0m\u001b[1;33m=\u001b[0m\u001b[0mrock\u001b[0m\u001b[1;33m,\u001b[0m \u001b[0min_mask_data\u001b[0m\u001b[1;33m=\u001b[0m\u001b[0mtrail\u001b[0m\u001b[1;33m)\u001b[0m\u001b[1;33m\u001b[0m\u001b[1;33m\u001b[0m\u001b[0m\n\u001b[0;32m     20\u001b[0m \u001b[0moutExtractByMask\u001b[0m\u001b[1;33m.\u001b[0m\u001b[0msave\u001b[0m\u001b[1;33m(\u001b[0m\u001b[0mout_name_rock\u001b[0m\u001b[1;33m)\u001b[0m\u001b[1;33m\u001b[0m\u001b[1;33m\u001b[0m\u001b[0m\n",
      "\u001b[1;31mRuntimeError\u001b[0m: ERROR 000872: Output Raster: Dataset C:\\Users\\A02315404\\Documents\\python\\frolic_analysis\\intersections\\Navajo_Knobs_nlcd.tif already exists and cannot be overwritten since the Overwrite existing datasets option is disabled."
     ]
    }
   ],
   "source": [
    "#make dictionaries from csv files\n",
    "nlcd_dict = {}\n",
    "with open(nlcd_key, mode='r') as inp:\n",
    "    reader = csv.reader(inp)\n",
    "    nlcd_dict = {rows[0]:rows[1] for rows in reader}\n",
    "\n",
    "rock_dict = {}\n",
    "with open(rock_key, mode='r') as inp:\n",
    "    reader = csv.reader(inp)\n",
    "    rock_dict = {rows[0]:rows[1] for rows in reader}\n",
    "\n",
    "#define output intersections    \n",
    "data_list = [trail,rock,nlcd]\n",
    "out_name=os.path.join(int_folder, filename) + \".tif\"\n",
    "\n",
    "#use ExtractByMask to make intersections\n",
    "outExtractByMask=ExtractByMask(in_raster=nlcd, in_mask_data=trail)\n",
    "outExtractByMask.save(out_name_nlcd)\n",
    "outExtractByMask=ExtractByMask(in_raster=rock, in_mask_data=trail)\n",
    "outExtractByMask.save(out_name_rock)\n",
    "\n",
    "#get unique values from rasters\n",
    "rock_np=gdal.Open(out_name_rock).GetRasterBand(1)\n",
    "rock_min = str(round(Raster(out_name_rock).minimum))\n",
    "rock_max = str(round(Raster(out_name_rock).maximum))\n",
    "rock_vals =np.unique(np.array([rock_min, rock_max]))\n",
    "nlcd_np=gdal.Open(out_name_nlcd).GetRasterBand(1)\n",
    "nlcd_min = str(round(Raster(out_name_nlcd).minimum))\n",
    "nlcd_max = str(round(Raster(out_name_nlcd).maximum))\n",
    "nlcd_vals =np.unique(np.array([nlcd_min, nlcd_max]))\n",
    "\n",
    "#print results\n",
    "for r in rock_vals:\n",
    "    print(\" You hiked in the\", rock_dict[str(r)], \"zone of lithology!\")\n",
    "for n in nlcd_vals:\n",
    "    print(\" You hiked in the\", nlcd_dict[str(n)], \"landcover classification zone!\")\n",
    "\n"
   ]
  },
  {
   "cell_type": "markdown",
   "metadata": {},
   "source": [
    "# Shp Stats"
   ]
  },
  {
   "cell_type": "code",
   "execution_count": 157,
   "metadata": {},
   "outputs": [
    {
     "name": "stdout",
     "output_type": "stream",
     "text": [
      "C:\\Users\\A02315404\\Documents\\python\\frolic_analysis\\intersections\\Navajo_Knobs.shp\n"
     ]
    },
    {
     "ename": "ExecuteError",
     "evalue": "Failed to execute. Parameters are not valid.\nWARNING 001003: Datum conflict between input and output.\nERROR 000725: Output Feature Class: Dataset C:\\Users\\A02315404\\Documents\\python\\frolic_analysis\\intersections\\Navajo_Knobs.shp already exists.\nFailed to execute (Intersect).\n",
     "output_type": "error",
     "traceback": [
      "\u001b[1;31m---------------------------------------------------------------------------\u001b[0m",
      "\u001b[1;31mExecuteError\u001b[0m                              Traceback (most recent call last)",
      "\u001b[1;32m<ipython-input-157-f2e9f287ebd6>\u001b[0m in \u001b[0;36m<module>\u001b[1;34m\u001b[0m\n\u001b[0;32m      4\u001b[0m \u001b[0mprint\u001b[0m\u001b[1;33m(\u001b[0m\u001b[0mout_name\u001b[0m\u001b[1;33m)\u001b[0m\u001b[1;33m\u001b[0m\u001b[1;33m\u001b[0m\u001b[0m\n\u001b[0;32m      5\u001b[0m arcpy.analysis.Intersect(in_features=data_list, \n\u001b[1;32m----> 6\u001b[1;33m                          \u001b[0mout_feature_class\u001b[0m\u001b[1;33m=\u001b[0m\u001b[0mout_name\u001b[0m\u001b[1;33m,\u001b[0m\u001b[1;33m\u001b[0m\u001b[1;33m\u001b[0m\u001b[0m\n\u001b[0m\u001b[0;32m      7\u001b[0m                          )\n\u001b[0;32m      8\u001b[0m \u001b[1;31m#funtion to get unique fieldnames\u001b[0m\u001b[1;33m\u001b[0m\u001b[1;33m\u001b[0m\u001b[1;33m\u001b[0m\u001b[0m\n",
      "\u001b[1;32mC:\\Program Files\\ArcGIS\\Pro\\Resources\\ArcPy\\arcpy\\analysis.py\u001b[0m in \u001b[0;36mIntersect\u001b[1;34m(in_features, out_feature_class, join_attributes, cluster_tolerance, output_type)\u001b[0m\n\u001b[0;32m    503\u001b[0m         \u001b[1;32mreturn\u001b[0m \u001b[0mretval\u001b[0m\u001b[1;33m\u001b[0m\u001b[1;33m\u001b[0m\u001b[0m\n\u001b[0;32m    504\u001b[0m     \u001b[1;32mexcept\u001b[0m \u001b[0mException\u001b[0m \u001b[1;32mas\u001b[0m \u001b[0me\u001b[0m\u001b[1;33m:\u001b[0m\u001b[1;33m\u001b[0m\u001b[1;33m\u001b[0m\u001b[0m\n\u001b[1;32m--> 505\u001b[1;33m         \u001b[1;32mraise\u001b[0m \u001b[0me\u001b[0m\u001b[1;33m\u001b[0m\u001b[1;33m\u001b[0m\u001b[0m\n\u001b[0m\u001b[0;32m    506\u001b[0m \u001b[1;33m\u001b[0m\u001b[0m\n\u001b[0;32m    507\u001b[0m \u001b[1;33m@\u001b[0m\u001b[0mgptooldoc\u001b[0m\u001b[1;33m(\u001b[0m\u001b[1;34m'RemoveOverlapMultiple_analysis'\u001b[0m\u001b[1;33m,\u001b[0m \u001b[1;32mNone\u001b[0m\u001b[1;33m)\u001b[0m\u001b[1;33m\u001b[0m\u001b[1;33m\u001b[0m\u001b[0m\n",
      "\u001b[1;32mC:\\Program Files\\ArcGIS\\Pro\\Resources\\ArcPy\\arcpy\\analysis.py\u001b[0m in \u001b[0;36mIntersect\u001b[1;34m(in_features, out_feature_class, join_attributes, cluster_tolerance, output_type)\u001b[0m\n\u001b[0;32m    500\u001b[0m     \u001b[1;32mfrom\u001b[0m \u001b[0marcpy\u001b[0m\u001b[1;33m.\u001b[0m\u001b[0marcobjects\u001b[0m\u001b[1;33m.\u001b[0m\u001b[0marcobjectconversion\u001b[0m \u001b[1;32mimport\u001b[0m \u001b[0mconvertArcObjectToPythonObject\u001b[0m\u001b[1;33m\u001b[0m\u001b[1;33m\u001b[0m\u001b[0m\n\u001b[0;32m    501\u001b[0m     \u001b[1;32mtry\u001b[0m\u001b[1;33m:\u001b[0m\u001b[1;33m\u001b[0m\u001b[1;33m\u001b[0m\u001b[0m\n\u001b[1;32m--> 502\u001b[1;33m         \u001b[0mretval\u001b[0m \u001b[1;33m=\u001b[0m \u001b[0mconvertArcObjectToPythonObject\u001b[0m\u001b[1;33m(\u001b[0m\u001b[0mgp\u001b[0m\u001b[1;33m.\u001b[0m\u001b[0mIntersect_analysis\u001b[0m\u001b[1;33m(\u001b[0m\u001b[1;33m*\u001b[0m\u001b[0mgp_fixargs\u001b[0m\u001b[1;33m(\u001b[0m\u001b[1;33m(\u001b[0m\u001b[0min_features\u001b[0m\u001b[1;33m,\u001b[0m \u001b[0mout_feature_class\u001b[0m\u001b[1;33m,\u001b[0m \u001b[0mjoin_attributes\u001b[0m\u001b[1;33m,\u001b[0m \u001b[0mcluster_tolerance\u001b[0m\u001b[1;33m,\u001b[0m \u001b[0moutput_type\u001b[0m\u001b[1;33m)\u001b[0m\u001b[1;33m,\u001b[0m \u001b[1;32mTrue\u001b[0m\u001b[1;33m)\u001b[0m\u001b[1;33m)\u001b[0m\u001b[1;33m)\u001b[0m\u001b[1;33m\u001b[0m\u001b[1;33m\u001b[0m\u001b[0m\n\u001b[0m\u001b[0;32m    503\u001b[0m         \u001b[1;32mreturn\u001b[0m \u001b[0mretval\u001b[0m\u001b[1;33m\u001b[0m\u001b[1;33m\u001b[0m\u001b[0m\n\u001b[0;32m    504\u001b[0m     \u001b[1;32mexcept\u001b[0m \u001b[0mException\u001b[0m \u001b[1;32mas\u001b[0m \u001b[0me\u001b[0m\u001b[1;33m:\u001b[0m\u001b[1;33m\u001b[0m\u001b[1;33m\u001b[0m\u001b[0m\n",
      "\u001b[1;32mC:\\Program Files\\ArcGIS\\Pro\\Resources\\ArcPy\\arcpy\\geoprocessing\\_base.py\u001b[0m in \u001b[0;36m<lambda>\u001b[1;34m(*args)\u001b[0m\n\u001b[0;32m    509\u001b[0m         \u001b[0mval\u001b[0m \u001b[1;33m=\u001b[0m \u001b[0mgetattr\u001b[0m\u001b[1;33m(\u001b[0m\u001b[0mself\u001b[0m\u001b[1;33m.\u001b[0m\u001b[0m_gp\u001b[0m\u001b[1;33m,\u001b[0m \u001b[0mattr\u001b[0m\u001b[1;33m)\u001b[0m\u001b[1;33m\u001b[0m\u001b[1;33m\u001b[0m\u001b[0m\n\u001b[0;32m    510\u001b[0m         \u001b[1;32mif\u001b[0m \u001b[0mcallable\u001b[0m\u001b[1;33m(\u001b[0m\u001b[0mval\u001b[0m\u001b[1;33m)\u001b[0m\u001b[1;33m:\u001b[0m\u001b[1;33m\u001b[0m\u001b[1;33m\u001b[0m\u001b[0m\n\u001b[1;32m--> 511\u001b[1;33m             \u001b[1;32mreturn\u001b[0m \u001b[1;32mlambda\u001b[0m \u001b[1;33m*\u001b[0m\u001b[0margs\u001b[0m\u001b[1;33m:\u001b[0m \u001b[0mval\u001b[0m\u001b[1;33m(\u001b[0m\u001b[1;33m*\u001b[0m\u001b[0mgp_fixargs\u001b[0m\u001b[1;33m(\u001b[0m\u001b[0margs\u001b[0m\u001b[1;33m,\u001b[0m \u001b[1;32mTrue\u001b[0m\u001b[1;33m)\u001b[0m\u001b[1;33m)\u001b[0m\u001b[1;33m\u001b[0m\u001b[1;33m\u001b[0m\u001b[0m\n\u001b[0m\u001b[0;32m    512\u001b[0m         \u001b[1;32melse\u001b[0m\u001b[1;33m:\u001b[0m\u001b[1;33m\u001b[0m\u001b[1;33m\u001b[0m\u001b[0m\n\u001b[0;32m    513\u001b[0m             \u001b[1;32mreturn\u001b[0m \u001b[0mconvertArcObjectToPythonObject\u001b[0m\u001b[1;33m(\u001b[0m\u001b[0mval\u001b[0m\u001b[1;33m)\u001b[0m\u001b[1;33m\u001b[0m\u001b[1;33m\u001b[0m\u001b[0m\n",
      "\u001b[1;31mExecuteError\u001b[0m: Failed to execute. Parameters are not valid.\nWARNING 001003: Datum conflict between input and output.\nERROR 000725: Output Feature Class: Dataset C:\\Users\\A02315404\\Documents\\python\\frolic_analysis\\intersections\\Navajo_Knobs.shp already exists.\nFailed to execute (Intersect).\n"
     ]
    }
   ],
   "source": [
    "#make intersection\n",
    "data_list = [trail,eco3,eco4]\n",
    "out_name=os.path.join(int_folder, filename) + \".shp\"\n",
    "print(out_name)\n",
    "arcpy.analysis.Intersect(in_features=data_list, \n",
    "                         out_feature_class=out_name, \n",
    "                         )\n",
    "#funtion to get unique fieldnames\n",
    "def unique_values(table , field):\n",
    "    with arcpy.da.SearchCursor(table, [field]) as cursor:\n",
    "        return sorted({row[0] for row in cursor})\n",
    "\n",
    "eco4_vals = unique_values(out_name , 'us_l4name')\n",
    "eco3_vals =unique_values(out_name , 'na_l3name')\n",
    "#make dictionaries of results\n",
    "eco4_dict = {}\n",
    "eco3_dict = {}\n",
    "count_all = int(arcpy.management.GetCount(out_name).getOutput(0))\n",
    "count=0\n",
    "for eco4_name in eco4_vals:\n",
    "    subset_eco4 = arcpy.management.SelectLayerByAttribute(\n",
    "        in_layer_or_view= out_name, \n",
    "        where_clause=f\"us_l4name LIKE  '{eco4_vals[count]}' \"\n",
    "    )\n",
    "    percent_eco4 = ((int(arcpy.management.GetCount(subset_eco4).getOutput(0)))/int(count_all)*100 )\n",
    "    eco4_dict[eco4_vals[count]] = percent_eco4\n",
    "    count=count+1\n",
    "count=0\n",
    "for eco3_name in eco3_vals:\n",
    "    subset_eco3 = arcpy.management.SelectLayerByAttribute(\n",
    "        in_layer_or_view= out_name, \n",
    "        where_clause=f\"na_l3name LIKE  '{eco3_vals[count]}' \"\n",
    "    )\n",
    "    percent_eco3 = ((int(arcpy.management.GetCount(subset_eco3).getOutput(0)))/int(count_all)*100 )\n",
    "    eco3_dict[eco3_vals[count]] = percent_eco3\n",
    "    count=count+1\n",
    "#print results\n",
    "count=0\n",
    "for eco in eco3_dict.items():\n",
    "    if count==0:\n",
    "        print(f\"Your adventure took you through the {eco[0]} ( {round(eco[1])} % ) \") \n",
    "    if count!=0:\n",
    "        print(f\"and the {eco[0]} ( {round(eco[1])} % ) \") \n",
    "    count=count+1\n",
    "count=0\n",
    "for eco in eco4_dict.items():\n",
    "    if count==0:\n",
    "        print(f\"specifically through the {(eco[0])} ( {round(eco[1])} % ) \")\n",
    "    if count!=0:\n",
    "        print(f\" and the {(eco[0])} ( {round(eco[1])} % ) \") \n",
    "    count=count+1\n"
   ]
  },
  {
   "cell_type": "markdown",
   "metadata": {},
   "source": [
    "# Make maps\n",
    "\n",
    "- getting current map, layouts, and naming base data layers and user input layer"
   ]
  },
  {
   "cell_type": "code",
   "execution_count": 159,
   "metadata": {},
   "outputs": [],
   "source": [
    "# Get the current project.\n",
    "import arcpy\n",
    "project = arcpy.mp.ArcGISProject(\"C:/Users/A02315404/Documents/python/frolic_analysis/frolic_map1.aprx\")\n",
    "[m.name for m in project.listMaps()]\n",
    "# Get the currently active map.\n",
    "mapp = project.listMaps('utah')[0]\n",
    "# Get the  layers.\n",
    "eco3 = mapp.listLayers('eco3_crop')[0]\n",
    "eco4 = mapp.listLayers('eco4_crop')[0]\n",
    "rock = mapp.listLayers('rock_crop.tif')[0]\n",
    "nlcd = mapp.listLayers('nlcd_crop.tif')[0]\n",
    "lyr_list = [eco3,eco4,rock,nlcd]\n",
    "lyr_names = [\"Ecoregion Classificaiton III\",\"Ecoregion Classificaiton IV\",\"Type of Lithology\" , \"Landcover\"]\n",
    "mapp.addDataFromPath(trail)\n",
    "trail_lyr = mapp.listLayers(filename)[0]\n",
    "mapp = project.listMaps('utah')[0]\n",
    "layout = project.listLayouts('current_layout')[0]\n",
    "final_doc = arcpy.mp.PDFDocumentCreate(pdf_fn)"
   ]
  },
  {
   "cell_type": "markdown",
   "metadata": {},
   "source": [
    "# Making and saving pdf of maps\n"
   ]
  },
  {
   "cell_type": "code",
   "execution_count": 160,
   "metadata": {},
   "outputs": [
    {
     "name": "stdout",
     "output_type": "stream",
     "text": [
      "0\n",
      "cur_lyr: eco3_crop\n",
      "1\n",
      "cur_lyr: eco4_crop\n",
      "2\n",
      "cur_lyr: rock_crop.tif\n",
      "3\n",
      "cur_lyr: nlcd_crop.tif\n"
     ]
    }
   ],
   "source": [
    "#0\n",
    "print(0)\n",
    "cur_lyr = lyr_list[0]\n",
    "#mapp.addLayer(cur_lyr, \"TOP\")\n",
    "print(\"cur_lyr:\", cur_lyr)\n",
    "\n",
    "\n",
    "lyr_list = [eco4,rock,nlcd]\n",
    "\n",
    "for lyr in lyr_list:\n",
    "    if (lyr != cur_lyr):\n",
    "        lyr.visible=False\n",
    "\n",
    "cur_lyr.visible=True\n",
    "trail_lyr.visible=True\n",
    "\n",
    "layout.exportToPDF(temp_fn)\n",
    "final_doc.appendPages(temp_fn)\n",
    "cur_lyr.visible=False\n",
    "mapp.removeLayer(cur_lyr)\n",
    "\n",
    "\n",
    "#1\n",
    "print(1)\n",
    "cur_lyr = lyr_list[0]\n",
    "#mapp.addLayer(cur_lyr, \"TOP\")\n",
    "print(\"cur_lyr:\", cur_lyr)\n",
    "lyr_list = [rock,nlcd]\n",
    "\n",
    "for lyr in lyr_list:\n",
    "    if (lyr != cur_lyr):\n",
    "        lyr.visible=False\n",
    "\n",
    "cur_lyr.visible=True\n",
    "trail_lyr.visible=True\n",
    "\n",
    "layout.exportToPDF(temp_fn)\n",
    "final_doc.appendPages(temp_fn)\n",
    "cur_lyr.visible=False\n",
    "mapp.removeLayer(cur_lyr)\n",
    "\n",
    "\n",
    "#2\n",
    "print(2)\n",
    "cur_lyr = lyr_list[0]\n",
    "#mapp.addLayer(cur_lyr, \"TOP\")\n",
    "print(\"cur_lyr:\", cur_lyr)\n",
    "lyr_list = [nlcd]\n",
    "for lyr in lyr_list:\n",
    "    if (lyr != cur_lyr):\n",
    "        lyr.visible=False\n",
    "\n",
    "cur_lyr.visible=True\n",
    "trail_lyr.visible=True\n",
    "\n",
    "layout.exportToPDF(temp_fn)\n",
    "final_doc.appendPages(temp_fn)\n",
    "cur_lyr.visible=False\n",
    "mapp.removeLayer(cur_lyr)\n",
    "\n",
    "\n",
    "#3\n",
    "print(3)\n",
    "cur_lyr = lyr_list[0]\n",
    "#mapp.addLayer(cur_lyr, \"TOP\")\n",
    "print(\"cur_lyr:\", cur_lyr)\n",
    "for lyr in lyr_list:\n",
    "    if (lyr != cur_lyr):\n",
    "        lyr.visible=False\n",
    "\n",
    "\n",
    "cur_lyr.visible=True\n",
    "trail_lyr.visible=True\n",
    "\n",
    "layout.exportToPDF(temp_fn)\n",
    "final_doc.appendPages(temp_fn)\n",
    "\n",
    "# Save and close the final pdf.\n",
    "final_doc.saveAndClose()\n",
    "\n",
    "# Delete variables to make sure everything is closed.\n",
    "del final_doc, project"
   ]
  }
 ],
 "metadata": {
  "kernelspec": {
   "display_name": "raster_proj",
   "language": "python",
   "name": "firstenv"
  },
  "language_info": {
   "codemirror_mode": {
    "name": "ipython",
    "version": 3
   },
   "file_extension": ".py",
   "mimetype": "text/x-python",
   "name": "python",
   "nbconvert_exporter": "python",
   "pygments_lexer": "ipython3",
   "version": "3.7.10"
  }
 },
 "nbformat": 4,
 "nbformat_minor": 4
}
