{
 "cells": [
  {
   "cell_type": "markdown",
   "metadata": {},
   "source": [
    "# Goals\n",
    "\n",
    "- uses .shp ecoregion files and .shp from .gpx file\n",
    "- makes intersection \n",
    "- count proportions of ecoregions that appear in intersection\n",
    "- store in dictionary\n",
    "- print results\n",
    "\n",
    "# Still need to figure out\n",
    "- eventually, make this into a function that takes in just the .gpx file "
   ]
  },
  {
   "cell_type": "code",
   "execution_count": 7,
   "metadata": {},
   "outputs": [
    {
     "data": {
      "text/plain": [
       "'C:\\\\Users\\\\A02315404\\\\Anaconda3\\\\envs\\\\raster_proj\\\\python.exe'"
      ]
     },
     "execution_count": 7,
     "metadata": {},
     "output_type": "execute_result"
    }
   ],
   "source": [
    "import sys\n",
    "sys.executable"
   ]
  },
  {
   "cell_type": "code",
   "execution_count": 2,
   "metadata": {},
   "outputs": [],
   "source": [
    "import arcpy\n",
    "import os\n",
    "import classtools\n",
    "arcpy.CheckOutExtension('spatial')\n",
    "\n",
    "data_folder = r'C:\\Users\\A02315404\\Documents\\python\\frolic_analysis\\data'\n",
    "conv_data_folder = r'C:\\Users\\A02315404\\Documents\\python\\frolic_analysis\\data_converted'\n",
    "\n",
    "filename = \"Temple_Fork\"\n",
    "\n",
    "#shape/image data\n",
    "eco3 = os.path.join(data_orig_folder, \"ecoregionsL3.shp\")\n",
    "eco4 = os.path.join(data_folder, \"ecoregionsL4.shp\")\n",
    "econew=  os.path.join(data_folder, \"ut_eco_l4.shp\")\n",
    "arcpy.env.workspace = data_folder\n",
    "int_folder = r'C:\\Users\\A02315404\\Documents\\python\\frolic_analysis\\intersections'"
   ]
  },
  {
   "cell_type": "code",
   "execution_count": 16,
   "metadata": {},
   "outputs": [],
   "source": [
    "user_input=\"C:/Users/A02315404/Downloads/Fischer_towers.gpx\"\n",
    "\n",
    "#modules (environ = raster_proj)\n",
    "import arcpy\n",
    "import os\n",
    "#import classtools\n",
    "arcpy.CheckOutExtension('spatial')\n",
    "from arcpy import env\n",
    "from arcpy.sa import *\n",
    "import rasterio\n",
    "import csv\n",
    "import numpy as np\n",
    "import gdal\n",
    "\n",
    "arcpy.overwriteoutput = True\n",
    "\n",
    "filename = os.path.split(user_input)[1]\n",
    "filename = filename.replace(\".gpx\", \"\")\n",
    "\n",
    "template = r'C:\\Users\\A02315404\\Documents\\python\\frolic_analysis\\data\\ecoregionsL4.shp'\n",
    "\n",
    "#folders\n",
    "conv_data_folder = r'C:\\Users\\A02315404\\Documents\\python\\frolic_analysis\\data_converted'\n",
    "data_folder = r'C:\\Users\\A02315404\\Documents\\python\\frolic_analysis\\data'\n",
    "data_orig_folder = r'C:\\Users\\A02315404\\Documents\\python\\frolic_analysis\\data_orig'\n",
    "int_folder = r'C:\\Users\\A02315404\\Documents\\python\\frolic_analysis\\intersections'\n",
    "in_folder = r'C:\\Users\\A02315404\\Documents\\python\\frolic_analysis\\data_gpx_files'\n",
    "out_folder = r'C:\\Users\\A02315404\\Documents\\python\\frolic_analysis\\data_converted'\n",
    "\n",
    "arcpy.env.workspace = data_folder\n",
    "\n",
    "#shape/image data\n",
    "rock = os.path.join(data_orig_folder, \"rock.tif\")\n",
    "nlcd = os.path.join(data_orig_folder, \"nlcd.tif\")\n",
    "nlcd_key = os.path.join(data_orig_folder, \"nlcd_key.csv\")\n",
    "rock_key = os.path.join(data_orig_folder, \"rock_key.csv\")\n",
    "eco3 = os.path.join(data_orig_folder, \"ecoregionsL3.shp\")\n",
    "eco4 = os.path.join(data_orig_folder, \"ecoregionsL4.shp\")\n",
    "\n",
    "\n",
    "#trail (from user input)\n",
    "trail =  os.path.join(conv_data_folder, filename) + \".shp\"\n",
    "output_name_shp = os.path.join(out_folder, filename)+ \".shp\"\n",
    "output_name_tif = os.path.join(out_folder, filename)+ \".tif\"\n",
    "out_name_nlcd=os.path.join(int_folder, filename) + \"_nlcd.tif\"\n",
    "out_name_rock=os.path.join(int_folder, filename) + \"_rock.tif\"\n",
    "\n"
   ]
  },
  {
   "cell_type": "code",
   "execution_count": 10,
   "metadata": {},
   "outputs": [
    {
     "name": "stdout",
     "output_type": "stream",
     "text": [
      "C:\\Users\\A02315404\\Documents\\python\\frolic_analysis\\data_converted\\Fischer_towers.shp\n"
     ]
    }
   ],
   "source": [
    "trail =  os.path.join(conv_data_folder, filename) + \".shp\"\n",
    "print(trail)"
   ]
  },
  {
   "cell_type": "code",
   "execution_count": 15,
   "metadata": {},
   "outputs": [
    {
     "name": "stdout",
     "output_type": "stream",
     "text": [
      "['C:\\\\Users\\\\A02315404\\\\Documents\\\\python\\\\frolic_analysis\\\\data_converted\\\\Fischer_towers.shp', 'C:\\\\Users\\\\A02315404\\\\Documents\\\\python\\\\frolic_analysis\\\\data\\\\ecoregionsL3.shp', 'C:\\\\Users\\\\A02315404\\\\Documents\\\\python\\\\frolic_analysis\\\\data\\\\ecoregionsL4.shp']\n"
     ]
    }
   ],
   "source": [
    "data_list = [trail,eco3,eco4]\n",
    "print(data_list)\n",
    "out_name=os.path.join(int_folder, filename) + \".shp\""
   ]
  },
  {
   "cell_type": "code",
   "execution_count": 12,
   "metadata": {},
   "outputs": [
    {
     "ename": "ExecuteError",
     "evalue": "Failed to execute. Parameters are not valid.\nERROR 000732: Input Features: Dataset Fischer_towers does not exist or is not supported\nFailed to execute (Intersect).\n",
     "output_type": "error",
     "traceback": [
      "\u001b[1;31m---------------------------------------------------------------------------\u001b[0m",
      "\u001b[1;31mExecuteError\u001b[0m                              Traceback (most recent call last)",
      "\u001b[1;32m<ipython-input-12-864bcfd07ea7>\u001b[0m in \u001b[0;36m<module>\u001b[1;34m\u001b[0m\n\u001b[0;32m      1\u001b[0m arcpy.analysis.Intersect(in_features=data_list, \n\u001b[1;32m----> 2\u001b[1;33m                          \u001b[0mout_feature_class\u001b[0m\u001b[1;33m=\u001b[0m\u001b[0mout_name\u001b[0m\u001b[1;33m,\u001b[0m\u001b[1;33m\u001b[0m\u001b[1;33m\u001b[0m\u001b[0m\n\u001b[0m\u001b[0;32m      3\u001b[0m                          )\n",
      "\u001b[1;32mC:\\Program Files\\ArcGIS\\Pro\\Resources\\ArcPy\\arcpy\\analysis.py\u001b[0m in \u001b[0;36mIntersect\u001b[1;34m(in_features, out_feature_class, join_attributes, cluster_tolerance, output_type)\u001b[0m\n\u001b[0;32m    503\u001b[0m         \u001b[1;32mreturn\u001b[0m \u001b[0mretval\u001b[0m\u001b[1;33m\u001b[0m\u001b[1;33m\u001b[0m\u001b[0m\n\u001b[0;32m    504\u001b[0m     \u001b[1;32mexcept\u001b[0m \u001b[0mException\u001b[0m \u001b[1;32mas\u001b[0m \u001b[0me\u001b[0m\u001b[1;33m:\u001b[0m\u001b[1;33m\u001b[0m\u001b[1;33m\u001b[0m\u001b[0m\n\u001b[1;32m--> 505\u001b[1;33m         \u001b[1;32mraise\u001b[0m \u001b[0me\u001b[0m\u001b[1;33m\u001b[0m\u001b[1;33m\u001b[0m\u001b[0m\n\u001b[0m\u001b[0;32m    506\u001b[0m \u001b[1;33m\u001b[0m\u001b[0m\n\u001b[0;32m    507\u001b[0m \u001b[1;33m@\u001b[0m\u001b[0mgptooldoc\u001b[0m\u001b[1;33m(\u001b[0m\u001b[1;34m'RemoveOverlapMultiple_analysis'\u001b[0m\u001b[1;33m,\u001b[0m \u001b[1;32mNone\u001b[0m\u001b[1;33m)\u001b[0m\u001b[1;33m\u001b[0m\u001b[1;33m\u001b[0m\u001b[0m\n",
      "\u001b[1;32mC:\\Program Files\\ArcGIS\\Pro\\Resources\\ArcPy\\arcpy\\analysis.py\u001b[0m in \u001b[0;36mIntersect\u001b[1;34m(in_features, out_feature_class, join_attributes, cluster_tolerance, output_type)\u001b[0m\n\u001b[0;32m    500\u001b[0m     \u001b[1;32mfrom\u001b[0m \u001b[0marcpy\u001b[0m\u001b[1;33m.\u001b[0m\u001b[0marcobjects\u001b[0m\u001b[1;33m.\u001b[0m\u001b[0marcobjectconversion\u001b[0m \u001b[1;32mimport\u001b[0m \u001b[0mconvertArcObjectToPythonObject\u001b[0m\u001b[1;33m\u001b[0m\u001b[1;33m\u001b[0m\u001b[0m\n\u001b[0;32m    501\u001b[0m     \u001b[1;32mtry\u001b[0m\u001b[1;33m:\u001b[0m\u001b[1;33m\u001b[0m\u001b[1;33m\u001b[0m\u001b[0m\n\u001b[1;32m--> 502\u001b[1;33m         \u001b[0mretval\u001b[0m \u001b[1;33m=\u001b[0m \u001b[0mconvertArcObjectToPythonObject\u001b[0m\u001b[1;33m(\u001b[0m\u001b[0mgp\u001b[0m\u001b[1;33m.\u001b[0m\u001b[0mIntersect_analysis\u001b[0m\u001b[1;33m(\u001b[0m\u001b[1;33m*\u001b[0m\u001b[0mgp_fixargs\u001b[0m\u001b[1;33m(\u001b[0m\u001b[1;33m(\u001b[0m\u001b[0min_features\u001b[0m\u001b[1;33m,\u001b[0m \u001b[0mout_feature_class\u001b[0m\u001b[1;33m,\u001b[0m \u001b[0mjoin_attributes\u001b[0m\u001b[1;33m,\u001b[0m \u001b[0mcluster_tolerance\u001b[0m\u001b[1;33m,\u001b[0m \u001b[0moutput_type\u001b[0m\u001b[1;33m)\u001b[0m\u001b[1;33m,\u001b[0m \u001b[1;32mTrue\u001b[0m\u001b[1;33m)\u001b[0m\u001b[1;33m)\u001b[0m\u001b[1;33m)\u001b[0m\u001b[1;33m\u001b[0m\u001b[1;33m\u001b[0m\u001b[0m\n\u001b[0m\u001b[0;32m    503\u001b[0m         \u001b[1;32mreturn\u001b[0m \u001b[0mretval\u001b[0m\u001b[1;33m\u001b[0m\u001b[1;33m\u001b[0m\u001b[0m\n\u001b[0;32m    504\u001b[0m     \u001b[1;32mexcept\u001b[0m \u001b[0mException\u001b[0m \u001b[1;32mas\u001b[0m \u001b[0me\u001b[0m\u001b[1;33m:\u001b[0m\u001b[1;33m\u001b[0m\u001b[1;33m\u001b[0m\u001b[0m\n",
      "\u001b[1;32mC:\\Program Files\\ArcGIS\\Pro\\Resources\\ArcPy\\arcpy\\geoprocessing\\_base.py\u001b[0m in \u001b[0;36m<lambda>\u001b[1;34m(*args)\u001b[0m\n\u001b[0;32m    509\u001b[0m         \u001b[0mval\u001b[0m \u001b[1;33m=\u001b[0m \u001b[0mgetattr\u001b[0m\u001b[1;33m(\u001b[0m\u001b[0mself\u001b[0m\u001b[1;33m.\u001b[0m\u001b[0m_gp\u001b[0m\u001b[1;33m,\u001b[0m \u001b[0mattr\u001b[0m\u001b[1;33m)\u001b[0m\u001b[1;33m\u001b[0m\u001b[1;33m\u001b[0m\u001b[0m\n\u001b[0;32m    510\u001b[0m         \u001b[1;32mif\u001b[0m \u001b[0mcallable\u001b[0m\u001b[1;33m(\u001b[0m\u001b[0mval\u001b[0m\u001b[1;33m)\u001b[0m\u001b[1;33m:\u001b[0m\u001b[1;33m\u001b[0m\u001b[1;33m\u001b[0m\u001b[0m\n\u001b[1;32m--> 511\u001b[1;33m             \u001b[1;32mreturn\u001b[0m \u001b[1;32mlambda\u001b[0m \u001b[1;33m*\u001b[0m\u001b[0margs\u001b[0m\u001b[1;33m:\u001b[0m \u001b[0mval\u001b[0m\u001b[1;33m(\u001b[0m\u001b[1;33m*\u001b[0m\u001b[0mgp_fixargs\u001b[0m\u001b[1;33m(\u001b[0m\u001b[0margs\u001b[0m\u001b[1;33m,\u001b[0m \u001b[1;32mTrue\u001b[0m\u001b[1;33m)\u001b[0m\u001b[1;33m)\u001b[0m\u001b[1;33m\u001b[0m\u001b[1;33m\u001b[0m\u001b[0m\n\u001b[0m\u001b[0;32m    512\u001b[0m         \u001b[1;32melse\u001b[0m\u001b[1;33m:\u001b[0m\u001b[1;33m\u001b[0m\u001b[1;33m\u001b[0m\u001b[0m\n\u001b[0;32m    513\u001b[0m             \u001b[1;32mreturn\u001b[0m \u001b[0mconvertArcObjectToPythonObject\u001b[0m\u001b[1;33m(\u001b[0m\u001b[0mval\u001b[0m\u001b[1;33m)\u001b[0m\u001b[1;33m\u001b[0m\u001b[1;33m\u001b[0m\u001b[0m\n",
      "\u001b[1;31mExecuteError\u001b[0m: Failed to execute. Parameters are not valid.\nERROR 000732: Input Features: Dataset Fischer_towers does not exist or is not supported\nFailed to execute (Intersect).\n"
     ]
    }
   ],
   "source": [
    "arcpy.analysis.Intersect(in_features=data_list, \n",
    "                         out_feature_class=out_name, \n",
    "                         )"
   ]
  },
  {
   "cell_type": "code",
   "execution_count": 16,
   "metadata": {},
   "outputs": [
    {
     "name": "stdout",
     "output_type": "stream",
     "text": [
      "['FID', 'Shape', 'FID_Temple', 'Id', 'Name', 'Descript', 'Type', 'Comment', 'Symbol', 'DateTimeS', 'Elevation', 'FID_ecoreg', 'l3_key', 'na_l1name', 'na_l1code', 'na_l3name', 'shape_leng', 'l1_key', 'na_l3code', 'shape_area', 'us_l3code', 'na_l2name', 'us_l3name', 'na_l2code', 'l2_key', 'FID_ecor_1', 'l3_key_1', 'us_l4code', 'na_l1nam_1', 'na_l1cod_1', 'na_l3nam_1', 'shape_le_1', 'us_l4name', 'l1_key_1', 'na_l3cod_1', 'shape_ar_1', 'us_l3cod_1', 'na_l2nam_1', 'us_l3nam_1', 'na_l2cod_1', 'l4_key', 'l2_key_1']\n"
     ]
    }
   ],
   "source": [
    "fields = (arcpy.ListFields (out_name))\n",
    "field_names = []\n",
    "\n",
    "for field in fields:\n",
    "        field_names.append(field.name)\n",
    "        \n",
    "print(field_names)"
   ]
  },
  {
   "cell_type": "markdown",
   "metadata": {},
   "source": [
    "-module 5, value tables\n",
    "-this has >10000 pnts...."
   ]
  },
  {
   "cell_type": "markdown",
   "metadata": {},
   "source": [
    "# get unique values in each column"
   ]
  },
  {
   "cell_type": "code",
   "execution_count": 57,
   "metadata": {},
   "outputs": [
    {
     "name": "stdout",
     "output_type": "stream",
     "text": [
      "['Semiarid Foothills', 'Wasatch Montane Zone'] ['Wasatch and Uinta Mountains'] ['WESTERN CORDILLERA'] ['NORTHWESTERN FORESTED MOUNTAINS']\n"
     ]
    }
   ],
   "source": [
    "def unique_values(table , field):\n",
    "    with arcpy.da.SearchCursor(table, [field]) as cursor:\n",
    "        return sorted({row[0] for row in cursor})\n",
    "\n",
    "eco4_vals = unique_values(out_name , 'us_l4name')\n",
    "eco3_vals = unique_values(out_name , 'na_l3name')\n",
    "eco2_vals =unique_values(out_name , 'na_l2name')\n",
    "eco1_vals =unique_values(out_name , 'na_l1name')\n",
    "print(eco4_vals,eco3_vals,eco2_vals,eco1_vals)"
   ]
  },
  {
   "cell_type": "markdown",
   "metadata": {},
   "source": [
    "# make dictionary of results using loops"
   ]
  },
  {
   "cell_type": "code",
   "execution_count": 61,
   "metadata": {},
   "outputs": [
    {
     "name": "stdout",
     "output_type": "stream",
     "text": [
      "{'Semiarid Foothills': 95.25910839556461, 'Wasatch Montane Zone': 4.740891604435393}\n",
      "{'Wasatch and Uinta Mountains': 100.0, 'magic mountains': 0.0}\n",
      "{'WESTERN CORDILLERA': 100.0}\n",
      "{'NORTHWESTERN FORESTED MOUNTAINS': 100.0}\n"
     ]
    }
   ],
   "source": [
    "eco4_dict = {}\n",
    "eco3_dict = {}\n",
    "eco2_dict = {}\n",
    "eco1_dict = {}\n",
    "\n",
    "count_all = int(arcpy.management.GetCount(out_name).getOutput(0))\n",
    "count=0\n",
    "for eco4_name in eco4_vals:\n",
    "    subset_eco4 = arcpy.management.SelectLayerByAttribute(\n",
    "        in_layer_or_view= out_name, \n",
    "        where_clause=f\"us_l4name LIKE  '{eco4_vals[count]}' \"\n",
    "    )\n",
    "    percent_eco4 = ((int(arcpy.management.GetCount(subset_eco4).getOutput(0)))/int(count_all)*100 )\n",
    "    eco4_dict[eco4_vals[count]] = percent_eco4\n",
    "    count=count+1\n",
    "count=0\n",
    "for eco3_name in eco3_vals:\n",
    "    subset_eco3 = arcpy.management.SelectLayerByAttribute(\n",
    "        in_layer_or_view= out_name, \n",
    "        where_clause=f\"na_l3name LIKE  '{eco3_vals[count]}' \"\n",
    "    )\n",
    "    percent_eco3 = ((int(arcpy.management.GetCount(subset_eco3).getOutput(0)))/int(count_all)*100 )\n",
    "    eco3_dict[eco3_vals[count]] = percent_eco3\n",
    "    count=count+1\n",
    "count=0\n",
    "for eco2_name in eco2_vals:\n",
    "    subset_eco2 = arcpy.management.SelectLayerByAttribute(\n",
    "        in_layer_or_view= out_name, \n",
    "        where_clause=f\"na_l2name LIKE  '{eco2_vals[count]}' \"\n",
    "    )\n",
    "    percent_eco2 = ((int(arcpy.management.GetCount(subset_eco2).getOutput(0)))/int(count_all)*100 )\n",
    "    eco2_dict[eco2_vals[count]] = percent_eco2\n",
    "    count=count+1\n",
    "    \n",
    "count=0\n",
    "for eco1_name in eco1_vals:\n",
    "    subset_eco1 = arcpy.management.SelectLayerByAttribute(\n",
    "        in_layer_or_view= out_name, \n",
    "        where_clause=f\"na_l1name LIKE  '{eco1_vals[count]}' \"\n",
    "    )\n",
    "    percent_eco1 = ((int(arcpy.management.GetCount(subset_eco1).getOutput(0)))/int(count_all)*100 )\n",
    "    eco1_dict[eco1_vals[count]] = percent_eco1\n",
    "    count=count+1"
   ]
  },
  {
   "cell_type": "markdown",
   "metadata": {},
   "source": [
    "# print out a summary statement"
   ]
  },
  {
   "cell_type": "code",
   "execution_count": 70,
   "metadata": {},
   "outputs": [
    {
     "name": "stdout",
     "output_type": "stream",
     "text": [
      "Your adventure took you through the NORTHWESTERN FORESTED MOUNTAINS ( 100 % ) \n",
      "specifically through the Semiarid Foothills ( 95 % ) \n",
      " and the Wasatch Montane Zone ( 5 % ) \n"
     ]
    }
   ],
   "source": [
    "#print( f\"Your adventure took you through the '{eco3_dict[0]} \")\n",
    "count=0\n",
    "for eco in eco2_dict.items():\n",
    "    if count==0:\n",
    "        print(f\"Your adventure took you through the {eco[0]} ( {round(eco[1])} % ) \") \n",
    "    if count!=0:\n",
    "        print(f\"and the {eco[0]} ( {round(eco[1])} % ) \") \n",
    "    count=count+1\n",
    "\n",
    "#for eco in eco2_dict.items():\n",
    "#    print(f\"as well as through the {eco[0]} ( {eco[1]} % ) \") \n",
    "#for eco in eco3_dict.items():\n",
    "#    print(f\"Your adventure took you through the {eco[0]} ( {eco[1]} % ) \") \n",
    "count=0\n",
    "for eco in eco4_dict.items():\n",
    "    if count==0:\n",
    "        print(f\"specifically through the {(eco[0])} ( {round(eco[1])} % ) \")\n",
    "    if count!=0:\n",
    "        print(f\" and the {(eco[0])} ( {round(eco[1])} % ) \") \n",
    "    count=count+1\n"
   ]
  }
 ],
 "metadata": {
  "kernelspec": {
   "display_name": "raster_proj",
   "language": "python",
   "name": "firstenv"
  },
  "language_info": {
   "codemirror_mode": {
    "name": "ipython",
    "version": 3
   },
   "file_extension": ".py",
   "mimetype": "text/x-python",
   "name": "python",
   "nbconvert_exporter": "python",
   "pygments_lexer": "ipython3",
   "version": "3.7.10"
  },
  "toc": {
   "base_numbering": 1,
   "nav_menu": {},
   "number_sections": true,
   "sideBar": true,
   "skip_h1_title": false,
   "title_cell": "Table of Contents",
   "title_sidebar": "Contents",
   "toc_cell": false,
   "toc_position": {},
   "toc_section_display": true,
   "toc_window_display": false
  }
 },
 "nbformat": 4,
 "nbformat_minor": 4
}
