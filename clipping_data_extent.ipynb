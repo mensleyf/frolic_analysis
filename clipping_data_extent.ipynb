{
 "cells": [
  {
   "cell_type": "code",
   "execution_count": 1,
   "metadata": {},
   "outputs": [
    {
     "ename": "ModuleNotFoundError",
     "evalue": "No module named 'plotly'",
     "output_type": "error",
     "traceback": [
      "\u001b[1;31m---------------------------------------------------------------------------\u001b[0m",
      "\u001b[1;31mModuleNotFoundError\u001b[0m                       Traceback (most recent call last)",
      "\u001b[1;32m<ipython-input-1-f386b89dd9c0>\u001b[0m in \u001b[0;36m<module>\u001b[1;34m\u001b[0m\n\u001b[0;32m     11\u001b[0m \u001b[1;32mimport\u001b[0m \u001b[0mrasterio\u001b[0m\u001b[1;33m\u001b[0m\u001b[1;33m\u001b[0m\u001b[0m\n\u001b[0;32m     12\u001b[0m \u001b[1;32mimport\u001b[0m \u001b[0mrasterio\u001b[0m\u001b[1;33m.\u001b[0m\u001b[0mmask\u001b[0m\u001b[1;33m\u001b[0m\u001b[1;33m\u001b[0m\u001b[0m\n\u001b[1;32m---> 13\u001b[1;33m \u001b[1;32mimport\u001b[0m \u001b[0mplotly\u001b[0m\u001b[1;33m.\u001b[0m\u001b[0mexpress\u001b[0m \u001b[1;32mas\u001b[0m \u001b[0mpx\u001b[0m\u001b[1;33m\u001b[0m\u001b[1;33m\u001b[0m\u001b[0m\n\u001b[0m\u001b[0;32m     14\u001b[0m \u001b[1;33m\u001b[0m\u001b[0m\n\u001b[0;32m     15\u001b[0m \u001b[0min_folder\u001b[0m \u001b[1;33m=\u001b[0m \u001b[1;34mr'C:\\Users\\A02315404\\Documents\\python\\frolic_analysis\\data_orig'\u001b[0m\u001b[1;33m\u001b[0m\u001b[1;33m\u001b[0m\u001b[0m\n",
      "\u001b[1;31mModuleNotFoundError\u001b[0m: No module named 'plotly'"
     ]
    }
   ],
   "source": [
    "import arcpy\n",
    "import os\n",
    "arcpy.CheckOutExtension('spatial')\n",
    "import earthpy.spatial\n",
    "import geopandas as gpd\n",
    "import rasterio\n",
    "from arcpy.sa import *\n",
    "import numpy as np\n",
    "import gdal\n",
    "import fiona\n",
    "import rasterio\n",
    "import rasterio.mask\n",
    "import plotly.express as px\n",
    "\n",
    "in_folder = r'C:\\Users\\A02315404\\Documents\\python\\frolic_analysis\\data_orig'\n",
    "out_folder = r'C:\\Users\\A02315404\\Documents\\python\\frolic_analysis\\data'\n",
    "filename = \"tl_2016_49_cousub\"\n",
    "arcpy.env.workspace = out_folder\n",
    "\n"
   ]
  },
  {
   "cell_type": "code",
   "execution_count": null,
   "metadata": {},
   "outputs": [],
   "source": [
    "#raster data:\n",
    "nlcd_orig_tif = os.path.join(in_folder, \"nlcd\")+ \".tif\"\n",
    "nlcd_crop_tif = os.path.join(out_folder, \"nlcd_crop\")+ \".tif\"\n",
    "\n",
    "rock_orig_tif = os.path.join(in_folder, \"rock\")+ \".tif\"\n",
    "rock_crop_tif = os.path.join(out_folder, \"rock_crop\")+ \".tif\"\n",
    "\n",
    "\n",
    "#shp data\n",
    "eco4_orig_shp = os.path.join(in_folder, \"ecoregionsL4\")+ \".shp\"\n",
    "eco4_crop_shp = os.path.join(out_folder, \"eco4_crop\")+ \".shp\"\n",
    "eco3_orig_shp = os.path.join(in_folder, \"ecoregionsL3\")+ \".shp\"\n",
    "eco3_crop_shp = os.path.join(out_folder, \"eco3_crop\")+ \".shp\"\n",
    "\n",
    "ut_shp = os.path.join(in_folder, filename)+ \".shp\"\n",
    "\n",
    "print(ut_shp)\n"
   ]
  },
  {
   "cell_type": "markdown",
   "metadata": {},
   "source": [
    "# Clipping rasters to ut_shp"
   ]
  },
  {
   "cell_type": "code",
   "execution_count": 61,
   "metadata": {},
   "outputs": [],
   "source": [
    "from osgeo import gdal, ogr\n",
    "\n",
    "OutTile = gdal.Warp(srcDSOrSrcDSTab=nlcd_orig_tif, \n",
    "                    cutlineDSName=ut_shp,\n",
    "                    cropToCutline=True,\n",
    "                    destNameOrDestDS = nlcd_crop_tif)\n",
    "\n",
    "OutTile1 = gdal.Warp(srcDSOrSrcDSTab=rock_orig_tif, \n",
    "                    cutlineDSName=ut_shp,\n",
    "                    cropToCutline=True,\n",
    "                    destNameOrDestDS = rock_crop_tif)"
   ]
  },
  {
   "cell_type": "markdown",
   "metadata": {},
   "source": [
    "# Clipping .shp to ut_shp"
   ]
  },
  {
   "cell_type": "code",
   "execution_count": 72,
   "metadata": {},
   "outputs": [
    {
     "data": {
      "text/html": [
       "<h2>Output</h2>C:\\Users\\A02315404\\Documents\\python\\frolic_analysis\\data\\eco3_crop.shp<h2>Messages</h2>Start Time: Tuesday, April 27, 2021 12:47:33 PM<br/>Reading Features...<br/>Cracking Features...<br/>Assembling Features...<br/>Succeeded at Tuesday, April 27, 2021 12:47:35 PM (Elapsed Time: 1.14 seconds)<br/>WARNING 001003: Datum conflict between input and output.<br/><style>.rendered_html td, .rendered_html th {text-align: left;}.rendered_html tbody {border: 1px solid black;}</style>"
      ],
      "text/plain": [
       "<Result 'C:\\\\Users\\\\A02315404\\\\Documents\\\\python\\\\frolic_analysis\\\\data\\\\eco3_crop.shp'>"
      ]
     },
     "execution_count": 72,
     "metadata": {},
     "output_type": "execute_result"
    }
   ],
   "source": [
    "\n",
    "#arcpy.analysis.Clip(in_features=eco4_orig_shp, clip_features=ut_shp,\n",
    "#                    out_feature_class=eco4_crop_shp)\n",
    "\n",
    "arcpy.analysis.Clip(in_features=eco3_orig_shp, clip_features=ut_shp,\n",
    "                    out_feature_class=eco3_crop_shp)"
   ]
  }
 ],
 "metadata": {
  "kernelspec": {
   "display_name": "raster_proj",
   "language": "python",
   "name": "firstenv"
  },
  "language_info": {
   "codemirror_mode": {
    "name": "ipython",
    "version": 3
   },
   "file_extension": ".py",
   "mimetype": "text/x-python",
   "name": "python",
   "nbconvert_exporter": "python",
   "pygments_lexer": "ipython3",
   "version": "3.7.10"
  }
 },
 "nbformat": 4,
 "nbformat_minor": 4
}
