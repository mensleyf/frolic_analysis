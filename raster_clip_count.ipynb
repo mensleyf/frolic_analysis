{
 "cells": [
  {
   "cell_type": "markdown",
   "metadata": {},
   "source": [
    "# Goals\n",
    "\n",
    "- uses .tif rock and nlcd files and ???? from .gpx file\n",
    "- make them into dictionaries\n",
    "- clip to the trail data?  \n",
    "- do raster stats on the clipped raster\n",
    "- find in dictionary\n",
    "\n",
    "\n",
    "# Still need to figure out\n",
    "- print result\n",
    "- get unwiue values in raster\n",
    "\n"
   ]
  },
  {
   "cell_type": "code",
   "execution_count": 5,
   "metadata": {},
   "outputs": [],
   "source": [
    "filename=\"Navajo_Knobs\"\n"
   ]
  },
  {
   "cell_type": "code",
   "execution_count": 47,
   "metadata": {},
   "outputs": [],
   "source": [
    "import arcpy\n",
    "import os\n",
    "import classtools\n",
    "arcpy.CheckOutExtension('spatial')\n",
    "from arcpy import env\n",
    "from arcpy.sa import *\n",
    "import rasterio\n",
    "import csv\n",
    "import numpy as np\n",
    "import gdal\n",
    "\n",
    "\n",
    "data_folder = r'C:\\Users\\A02315404\\Documents\\python\\frolic_analysis\\data'\n",
    "data_orig_folder = r'C:\\Users\\A02315404\\Documents\\python\\frolic_analysis\\data_orig'\n",
    "\n",
    "template = r'C:\\Users\\A02315404\\Documents\\python\\frolic_analysis\\data\\ecoregionsL4.shp'\n",
    "\n",
    "conv_data_folder = r'C:\\Users\\A02315404\\Documents\\python\\frolic_analysis\\data_converted'\n",
    "\n",
    "#shape/image data\n",
    "rock = os.path.join(data_orig_folder, \"rock.tif\")\n",
    "nlcd = os.path.join(data_orig_folder, \"nlcd.tif\")\n",
    "nlcd_key = os.path.join(data_orig_folder, \"nlcd_key.csv\")\n",
    "rock_key = os.path.join(data_orig_folder, \"rock_key.csv\")\n",
    "arcpy.env.workspace = data_folder\n",
    "int_folder = r'C:\\Users\\A02315404\\Documents\\python\\frolic_analysis\\intersections'\n",
    "\n",
    "\n",
    "trail =  os.path.join(conv_data_folder, filename) + \".shp\"\n",
    "out_name_nlcd=os.path.join(int_folder, filename) + \"_nlcd.tif\"\n",
    "out_name_rock=os.path.join(int_folder, filename) + \"_rock.tif\"\n"
   ]
  },
  {
   "cell_type": "markdown",
   "metadata": {},
   "source": [
    "# Exploring raster datasets"
   ]
  },
  {
   "cell_type": "markdown",
   "metadata": {},
   "source": [
    "# make dictionary for nlcd and rock"
   ]
  },
  {
   "cell_type": "code",
   "execution_count": 48,
   "metadata": {},
   "outputs": [],
   "source": [
    "\n",
    "nlcd_dict = {}\n",
    "\n",
    "with open(nlcd_key, mode='r') as inp:\n",
    "    reader = csv.reader(inp)\n",
    "    nlcd_dict = {rows[0]:rows[1] for rows in reader}\n",
    "\n",
    "#print(nlcd_dict)\n",
    "\n",
    "rock_dict = {}\n",
    "\n",
    "with open(rock_key, mode='r') as inp:\n",
    "    reader = csv.reader(inp)\n",
    "    rock_dict = {rows[0]:rows[1] for rows in reader}\n",
    "\n",
    "#print(rock_dict)"
   ]
  },
  {
   "cell_type": "code",
   "execution_count": 49,
   "metadata": {},
   "outputs": [],
   "source": [
    "data_list = [trail,rock,nlcd]\n",
    "out_name=os.path.join(int_folder, filename) + \".tif\""
   ]
  },
  {
   "cell_type": "markdown",
   "metadata": {},
   "source": [
    "# make masked NLCD tif"
   ]
  },
  {
   "cell_type": "code",
   "execution_count": 51,
   "metadata": {},
   "outputs": [],
   "source": [
    "outExtractByMask=ExtractByMask(in_raster=nlcd, in_mask_data=trail)\n",
    "outExtractByMask.save(out_name_nlcd)\n"
   ]
  },
  {
   "cell_type": "markdown",
   "metadata": {},
   "source": [
    "#  make masked rock tif"
   ]
  },
  {
   "cell_type": "code",
   "execution_count": 52,
   "metadata": {},
   "outputs": [],
   "source": [
    "outExtractByMask=ExtractByMask(in_raster=rock, in_mask_data=nav)\n",
    "outExtractByMask.save(out_name_rock)\n"
   ]
  },
  {
   "cell_type": "markdown",
   "metadata": {},
   "source": [
    "# Get unique values in raster\n",
    "\n",
    "-why does this take so long ro tun? why does it kill kernels?"
   ]
  },
  {
   "cell_type": "code",
   "execution_count": 53,
   "metadata": {},
   "outputs": [
    {
     "name": "stdout",
     "output_type": "stream",
     "text": [
      "['3']\n",
      "C:\\Users\\A02315404\\Documents\\python\\frolic_analysis\\intersections\\Navajo_Knobs_nlcd.tif\n",
      "['52']\n"
     ]
    }
   ],
   "source": [
    "rock_np=gdal.Open(out_name_rock).GetRasterBand(1)\n",
    "\n",
    "rock_min = str(round(Raster(out_name_rock).minimum))\n",
    "rock_max = str(round(Raster(out_name_rock).maximum))\n",
    "rock_avg = str(round(Raster(out_name_rock).mean))\n",
    "\n",
    "\n",
    "rock_vals =np.unique(np.array([rock_min, rock_max, rock_avg]))\n",
    "print((rock_vals))\n",
    "\n",
    "\n",
    "nlcd_np=gdal.Open(out_name_nlcd).GetRasterBand(1)\n",
    "print(out_name_nlcd)\n",
    "nlcd_min = str(round(Raster(out_name_nlcd).minimum))\n",
    "nlcd_max = str(round(Raster(out_name_nlcd).maximum))\n",
    "nlcd_avg = str(round(Raster(out_name_nlcd).mean))\n",
    "\n",
    "\n",
    "nlcd_vals =np.unique(np.array([nlcd_min, nlcd_max, nlcd_avg]))\n",
    "print((nlcd_vals))\n",
    "\n",
    "\n",
    "#print(rock_np)\n",
    "#rock_array = rock_np.ReadAsArray()\n",
    "#print(rock_array)\n",
    "#rock_values = np.unique(rock_array)\n",
    "#print(rock_array.unique())\n",
    "#print(rock_values)\n",
    "\n",
    "\n",
    "#rock_array = np.array(gdal.Open(out_name_rock).GetRasterBand(1).ReadAsArray())\n",
    "#rock_values = np.unique(rock_array)\n",
    "#print(rock_values)\n",
    "\n"
   ]
  },
  {
   "cell_type": "markdown",
   "metadata": {},
   "source": [
    "# print results"
   ]
  },
  {
   "cell_type": "code",
   "execution_count": 56,
   "metadata": {},
   "outputs": [
    {
     "name": "stdout",
     "output_type": "stream",
     "text": [
      " You hiked in the non-carbonate zone of lithology!\n",
      "52\n",
      " You hiked in the Shrub landcover classification zone!\n"
     ]
    }
   ],
   "source": [
    "for r in rock_vals:\n",
    "    print(\" You hiked in the\", rock_dict[str(r)], \"zone of lithology!\")\n",
    "\n",
    "for n in nlcd_vals:\n",
    "    print(\" You hiked in the\", nlcd_dict[str(n)], \"landcover classification zone!\")\n"
   ]
  }
 ],
 "metadata": {
  "kernelspec": {
   "display_name": "raster_proj",
   "language": "python",
   "name": "firstenv"
  },
  "language_info": {
   "codemirror_mode": {
    "name": "ipython",
    "version": 3
   },
   "file_extension": ".py",
   "mimetype": "text/x-python",
   "name": "python",
   "nbconvert_exporter": "python",
   "pygments_lexer": "ipython3",
   "version": "3.7.10"
  },
  "toc": {
   "base_numbering": 1,
   "nav_menu": {},
   "number_sections": true,
   "sideBar": true,
   "skip_h1_title": false,
   "title_cell": "Table of Contents",
   "title_sidebar": "Contents",
   "toc_cell": false,
   "toc_position": {},
   "toc_section_display": true,
   "toc_window_display": false
  }
 },
 "nbformat": 4,
 "nbformat_minor": 4
}
