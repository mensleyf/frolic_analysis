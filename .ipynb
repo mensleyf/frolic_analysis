{
 "cells": [
  {
   "cell_type": "markdown",
   "metadata": {},
   "source": [
    "# User input; only parameter"
   ]
  },
  {
   "cell_type": "code",
   "execution_count": 21,
   "metadata": {},
   "outputs": [],
   "source": [
    "user_input=\"C:/Users/A02315404/Downloads/Fischer_towers.gpx\"\n"
   ]
  },
  {
   "cell_type": "markdown",
   "metadata": {},
   "source": [
    "# Importing modules, naming data folders"
   ]
  },
  {
   "cell_type": "code",
   "execution_count": 35,
   "metadata": {},
   "outputs": [],
   "source": [
    "#modules (environ = raster_proj)\n",
    "import arcpy\n",
    "import os\n",
    "#import classtools\n",
    "arcpy.CheckOutExtension('spatial')\n",
    "from arcpy import env\n",
    "from arcpy.sa import *\n",
    "import rasterio\n",
    "import csv\n",
    "import numpy as np\n",
    "import gdal\n",
    "\n",
    "arcpy.overwriteoutput = True\n",
    "\n",
    "filename = os.path.split(user_input)[1]\n",
    "filename = filename.replace(\".gpx\", \"\")\n",
    "\n",
    "template = r'C:\\Users\\A02315404\\Documents\\python\\frolic_analysis\\data\\ecoregionsL4.shp'\n",
    "\n",
    "#folders\n",
    "conv_data_folder = r'C:\\Users\\A02315404\\Documents\\python\\frolic_analysis\\data_converted'\n",
    "data_folder = r'C:\\Users\\A02315404\\Documents\\python\\frolic_analysis\\data'\n",
    "data_orig_folder = r'C:\\Users\\A02315404\\Documents\\python\\frolic_analysis\\data_orig'\n",
    "int_folder = r'C:\\Users\\A02315404\\Documents\\python\\frolic_analysis\\intersections'\n",
    "in_folder = r'C:\\Users\\A02315404\\Documents\\python\\frolic_analysis\\data_gpx_files'\n",
    "out_folder = r'C:\\Users\\A02315404\\Documents\\python\\frolic_analysis\\data_converted'\n",
    "frolic_folder = r'C:\\Users\\A02315404\\Documents\\python\\frolic_analysis'\n",
    "\n",
    "arcpy.env.workspace = data_folder\n",
    "\n",
    "#shape/image data\n",
    "rock = os.path.join(data_orig_folder, \"rock.tif\")\n",
    "nlcd = os.path.join(data_orig_folder, \"nlcd.tif\")\n",
    "nlcd_key = os.path.join(data_orig_folder, \"nlcd_key.csv\")\n",
    "rock_key = os.path.join(data_orig_folder, \"rock_key.csv\")\n",
    "eco3 = os.path.join(data_orig_folder, \"ecoregionsL3.shp\")\n",
    "eco4 = os.path.join(data_orig_folder, \"ecoregionsL4.shp\")\n",
    "\n",
    "\n",
    "#trail (from user input)\n",
    "trail =  os.path.join(conv_data_folder, filename) + \".shp\"\n",
    "output_name_shp = os.path.join(out_folder, filename)+ \".shp\"\n",
    "output_name_tif = os.path.join(out_folder, filename)+ \".tif\"\n",
    "out_name_nlcd=os.path.join(int_folder, filename) + \"_nlcd.tif\"\n",
    "out_name_rock=os.path.join(int_folder, filename) + \"_rock.tif\"\n",
    "temp_fn = os.path.join(frolic_folder, filename) + '_test_maps.pdf'\n",
    "pdf_fn = os.path.join(frolic_folder, filename) + '_maps.pdf'\n"
   ]
  },
  {
   "cell_type": "markdown",
   "metadata": {},
   "source": [
    "# Converting user_input (.gpx) to .tif and  .shp files"
   ]
  },
  {
   "cell_type": "code",
   "execution_count": 23,
   "metadata": {},
   "outputs": [
    {
     "name": "stdout",
     "output_type": "stream",
     "text": [
      "Fischer_towers \n",
      " C:\\Users\\A02315404\\Documents\\python\\frolic_analysis\\data_converted\\Fischer_towers.shp \n",
      " C:\\Users\\A02315404\\Documents\\python\\frolic_analysis\\data_converted\\Fischer_towers.tif\n"
     ]
    },
    {
     "data": {
      "text/html": [
       "<h2>Output</h2>C:\\Users\\A02315404\\Documents\\python\\frolic_analysis\\data_converted\\Fischer_towers.tif<h2>Messages</h2>Start Time: Friday, April 30, 2021 11:32:40 AM<br/>Succeeded at Friday, April 30, 2021 11:32:40 AM (Elapsed Time: 0.16 seconds)<br/><style>.rendered_html td, .rendered_html th {text-align: left;}.rendered_html tbody {border: 1px solid black;}</style>"
      ],
      "text/plain": [
       "<Result 'C:\\\\Users\\\\A02315404\\\\Documents\\\\python\\\\frolic_analysis\\\\data_converted\\\\Fischer_towers.tif'>"
      ]
     },
     "execution_count": 23,
     "metadata": {},
     "output_type": "execute_result"
    }
   ],
   "source": [
    "#print(filename,\"\\n\", output_name_shp, \"\\n\", output_name_tif)\n",
    "arcpy.GPXtoFeatures_conversion(user_input, output_name_shp)\n",
    "arcpy.conversion.PointToRaster(in_features=output_name_shp, \n",
    "                               value_field='FID', \n",
    "                               out_rasterdataset=output_name_tif)\n"
   ]
  },
  {
   "cell_type": "markdown",
   "metadata": {},
   "source": [
    "# Raster Stats "
   ]
  },
  {
   "cell_type": "code",
   "execution_count": 30,
   "metadata": {},
   "outputs": [
    {
     "name": "stdout",
     "output_type": "stream",
     "text": [
      " You hiked in the non-carbonate zone of lithology!\n",
      " You hiked in the Shrub landcover classification zone!\n"
     ]
    }
   ],
   "source": [
    "#make dictionaries from csv files\n",
    "nlcd_dict = {}\n",
    "with open(nlcd_key, mode='r') as inp:\n",
    "    reader = csv.reader(inp)\n",
    "    nlcd_dict = {rows[0]:rows[1] for rows in reader}\n",
    "\n",
    "rock_dict = {}\n",
    "with open(rock_key, mode='r') as inp:\n",
    "    reader = csv.reader(inp)\n",
    "    rock_dict = {rows[0]:rows[1] for rows in reader}\n",
    "\n",
    "#define output intersections    \n",
    "data_list = [trail,rock,nlcd]\n",
    "out_name=os.path.join(int_folder, filename) + \".tif\"\n",
    "\n",
    "#use ExtractByMask to make intersections\n",
    "outExtractByMask=ExtractByMask(in_raster=nlcd, in_mask_data=trail)\n",
    "outExtractByMask.save(out_name_nlcd)\n",
    "outExtractByMask=ExtractByMask(in_raster=rock, in_mask_data=trail)\n",
    "outExtractByMask.save(out_name_rock)\n",
    "\n",
    "#get unique values from rasters\n",
    "rock_np=gdal.Open(out_name_rock).GetRasterBand(1)\n",
    "rock_min = str(round(Raster(out_name_rock).minimum))\n",
    "rock_max = str(round(Raster(out_name_rock).maximum))\n",
    "rock_avg = str(round(Raster(out_name_rock).mean))\n",
    "rock_vals =np.unique(np.array([rock_min, rock_max, rock_avg]))\n",
    "nlcd_np=gdal.Open(out_name_nlcd).GetRasterBand(1)\n",
    "nlcd_min = str(round(Raster(out_name_nlcd).minimum))\n",
    "nlcd_max = str(round(Raster(out_name_nlcd).maximum))\n",
    "nlcd_avg = str(round(Raster(out_name_nlcd).mean))\n",
    "nlcd_vals =np.unique(np.array([nlcd_min, nlcd_max, nlcd_avg]))\n",
    "\n",
    "#print results\n",
    "for r in rock_vals:\n",
    "    print(\" You hiked in the\", rock_dict[str(r)], \"zone of lithology!\")\n",
    "for n in nlcd_vals:\n",
    "    print(\" You hiked in the\", nlcd_dict[str(n)], \"landcover classification zone!\")\n",
    "\n"
   ]
  },
  {
   "cell_type": "markdown",
   "metadata": {},
   "source": [
    "# Shp Stats"
   ]
  },
  {
   "cell_type": "code",
   "execution_count": 36,
   "metadata": {},
   "outputs": [
    {
     "name": "stdout",
     "output_type": "stream",
     "text": [
      "C:\\Users\\A02315404\\Documents\\python\\frolic_analysis\\intersections\\Fischer_towers.shp\n"
     ]
    },
    {
     "ename": "NameError",
     "evalue": "name 'eco2_dict' is not defined",
     "output_type": "error",
     "traceback": [
      "\u001b[1;31m---------------------------------------------------------------------------\u001b[0m",
      "\u001b[1;31mNameError\u001b[0m                                 Traceback (most recent call last)",
      "\u001b[1;32m<ipython-input-36-a82de46f5e70>\u001b[0m in \u001b[0;36m<module>\u001b[1;34m\u001b[0m\n\u001b[0;32m     38\u001b[0m \u001b[1;31m#print( f\"Your adventure took you through the '{eco3_dict[0]} \")\u001b[0m\u001b[1;33m\u001b[0m\u001b[1;33m\u001b[0m\u001b[1;33m\u001b[0m\u001b[0m\n\u001b[0;32m     39\u001b[0m \u001b[0mcount\u001b[0m\u001b[1;33m=\u001b[0m\u001b[1;36m0\u001b[0m\u001b[1;33m\u001b[0m\u001b[1;33m\u001b[0m\u001b[0m\n\u001b[1;32m---> 40\u001b[1;33m \u001b[1;32mfor\u001b[0m \u001b[0meco\u001b[0m \u001b[1;32min\u001b[0m \u001b[0meco2_dict\u001b[0m\u001b[1;33m.\u001b[0m\u001b[0mitems\u001b[0m\u001b[1;33m(\u001b[0m\u001b[1;33m)\u001b[0m\u001b[1;33m:\u001b[0m\u001b[1;33m\u001b[0m\u001b[1;33m\u001b[0m\u001b[0m\n\u001b[0m\u001b[0;32m     41\u001b[0m     \u001b[1;32mif\u001b[0m \u001b[0mcount\u001b[0m\u001b[1;33m==\u001b[0m\u001b[1;36m0\u001b[0m\u001b[1;33m:\u001b[0m\u001b[1;33m\u001b[0m\u001b[1;33m\u001b[0m\u001b[0m\n\u001b[0;32m     42\u001b[0m         \u001b[0mprint\u001b[0m\u001b[1;33m(\u001b[0m\u001b[1;34mf\"Your adventure took you through the {eco[0]} ( {round(eco[1])} % ) \"\u001b[0m\u001b[1;33m)\u001b[0m\u001b[1;33m\u001b[0m\u001b[1;33m\u001b[0m\u001b[0m\n",
      "\u001b[1;31mNameError\u001b[0m: name 'eco2_dict' is not defined"
     ]
    }
   ],
   "source": [
    "#make intersection\n",
    "data_list = [trail,eco3,eco4]\n",
    "out_name=os.path.join(int_folder, filename) + \".shp\"\n",
    "print(out_name)\n",
    "arcpy.analysis.Intersect(in_features=data_list, \n",
    "                         out_feature_class=out_name, \n",
    "                         )\n",
    "#funtion to get unique fieldnames\n",
    "def unique_values(table , field):\n",
    "    with arcpy.da.SearchCursor(table, [field]) as cursor:\n",
    "        return sorted({row[0] for row in cursor})\n",
    "\n",
    "eco4_vals = unique_values(out_name , 'us_l4name')\n",
    "eco3_vals =unique_values(out_name , 'na_l3name')\n",
    "#make dictionaries of results\n",
    "eco4_dict = {}\n",
    "eco3_dict = {}\n",
    "count_all = int(arcpy.management.GetCount(out_name).getOutput(0))\n",
    "count=0\n",
    "for eco4_name in eco4_vals:\n",
    "    subset_eco4 = arcpy.management.SelectLayerByAttribute(\n",
    "        in_layer_or_view= out_name, \n",
    "        where_clause=f\"us_l4name LIKE  '{eco4_vals[count]}' \"\n",
    "    )\n",
    "    percent_eco4 = ((int(arcpy.management.GetCount(subset_eco4).getOutput(0)))/int(count_all)*100 )\n",
    "    eco4_dict[eco4_vals[count]] = percent_eco4\n",
    "    count=count+1\n",
    "count=0\n",
    "for eco3_name in eco3_vals:\n",
    "    subset_eco3 = arcpy.management.SelectLayerByAttribute(\n",
    "        in_layer_or_view= out_name, \n",
    "        where_clause=f\"na_l3name LIKE  '{eco3_vals[count]}' \"\n",
    "    )\n",
    "    percent_eco3 = ((int(arcpy.management.GetCount(subset_eco3).getOutput(0)))/int(count_all)*100 )\n",
    "    eco3_dict[eco3_vals[count]] = percent_eco3\n",
    "    count=count+1\n",
    "#print results\n",
    "count=0\n",
    "for eco in eco3_dict.items():\n",
    "    if count==0:\n",
    "        print(f\"Your adventure took you through the {eco[0]} ( {round(eco[1])} % ) \") \n",
    "    if count!=0:\n",
    "        print(f\"and the {eco[0]} ( {round(eco[1])} % ) \") \n",
    "    count=count+1\n",
    "count=0\n",
    "for eco in eco4_dict.items():\n",
    "    if count==0:\n",
    "        print(f\"specifically through the {(eco[0])} ( {round(eco[1])} % ) \")\n",
    "    if count!=0:\n",
    "        print(f\" and the {(eco[0])} ( {round(eco[1])} % ) \") \n",
    "    count=count+1\n"
   ]
  },
  {
   "cell_type": "markdown",
   "metadata": {},
   "source": [
    "# Make maps\n",
    "\n",
    "- will this only work if run from arcgis??"
   ]
  },
  {
   "cell_type": "code",
   "execution_count": 38,
   "metadata": {},
   "outputs": [
    {
     "ename": "OSError",
     "evalue": "CURRENT",
     "output_type": "error",
     "traceback": [
      "\u001b[1;31m---------------------------------------------------------------------------\u001b[0m",
      "\u001b[1;31mOSError\u001b[0m                                   Traceback (most recent call last)",
      "\u001b[1;32m<ipython-input-38-68705110125a>\u001b[0m in \u001b[0;36m<module>\u001b[1;34m\u001b[0m\n\u001b[0;32m      1\u001b[0m \u001b[1;31m# Get the current project.\u001b[0m\u001b[1;33m\u001b[0m\u001b[1;33m\u001b[0m\u001b[1;33m\u001b[0m\u001b[0m\n\u001b[1;32m----> 2\u001b[1;33m \u001b[0mproject\u001b[0m \u001b[1;33m=\u001b[0m \u001b[0marcpy\u001b[0m\u001b[1;33m.\u001b[0m\u001b[0mmp\u001b[0m\u001b[1;33m.\u001b[0m\u001b[0mArcGISProject\u001b[0m\u001b[1;33m(\u001b[0m\u001b[1;34m\"CURRENT\"\u001b[0m\u001b[1;33m)\u001b[0m\u001b[1;33m\u001b[0m\u001b[1;33m\u001b[0m\u001b[0m\n\u001b[0m\u001b[0;32m      3\u001b[0m \u001b[1;33m[\u001b[0m\u001b[0mm\u001b[0m\u001b[1;33m.\u001b[0m\u001b[0mname\u001b[0m \u001b[1;32mfor\u001b[0m \u001b[0mm\u001b[0m \u001b[1;32min\u001b[0m \u001b[0mproject\u001b[0m\u001b[1;33m.\u001b[0m\u001b[0mlistMaps\u001b[0m\u001b[1;33m(\u001b[0m\u001b[1;33m)\u001b[0m\u001b[1;33m]\u001b[0m\u001b[1;33m\u001b[0m\u001b[1;33m\u001b[0m\u001b[0m\n\u001b[0;32m      4\u001b[0m \u001b[1;31m# Get the currently active map.\u001b[0m\u001b[1;33m\u001b[0m\u001b[1;33m\u001b[0m\u001b[1;33m\u001b[0m\u001b[0m\n\u001b[0;32m      5\u001b[0m \u001b[0mmapp\u001b[0m \u001b[1;33m=\u001b[0m \u001b[0mproject\u001b[0m\u001b[1;33m.\u001b[0m\u001b[0mactiveMap\u001b[0m\u001b[1;33m\u001b[0m\u001b[1;33m\u001b[0m\u001b[0m\n",
      "\u001b[1;32mC:\\Program Files\\ArcGIS\\Pro\\Resources\\ArcPy\\arcpy\\_mp.py\u001b[0m in \u001b[0;36m__init__\u001b[1;34m(self, aprx_path)\u001b[0m\n\u001b[0;32m    335\u001b[0m            A string that includes the full system path and file name of an existing ArcGIS project ( .aprx ) or a string that contains the CURRENT keyword.\"\"\"\n\u001b[0;32m    336\u001b[0m         \u001b[1;32mimport\u001b[0m \u001b[0marcgisscripting\u001b[0m\u001b[1;33m\u001b[0m\u001b[1;33m\u001b[0m\u001b[0m\n\u001b[1;32m--> 337\u001b[1;33m         \u001b[0mself\u001b[0m\u001b[1;33m.\u001b[0m\u001b[0m_arc_object\u001b[0m \u001b[1;33m=\u001b[0m \u001b[0marcgisscripting\u001b[0m\u001b[1;33m.\u001b[0m\u001b[0m_mapping\u001b[0m\u001b[1;33m.\u001b[0m\u001b[0mArcGISProject\u001b[0m\u001b[1;33m(\u001b[0m\u001b[1;33m*\u001b[0m\u001b[0mgp_fixargs\u001b[0m\u001b[1;33m(\u001b[0m\u001b[1;33m(\u001b[0m\u001b[0maprx_path\u001b[0m\u001b[1;33m,\u001b[0m\u001b[1;33m)\u001b[0m\u001b[1;33m,\u001b[0m \u001b[1;32mTrue\u001b[0m\u001b[1;33m)\u001b[0m\u001b[1;33m)\u001b[0m\u001b[1;33m\u001b[0m\u001b[1;33m\u001b[0m\u001b[0m\n\u001b[0m\u001b[0;32m    338\u001b[0m \u001b[1;33m\u001b[0m\u001b[0m\n\u001b[0;32m    339\u001b[0m \u001b[1;32mclass\u001b[0m \u001b[0mBookmark\u001b[0m\u001b[1;33m(\u001b[0m\u001b[0m_ObjectWithoutInitCall\u001b[0m\u001b[1;33m)\u001b[0m\u001b[1;33m:\u001b[0m\u001b[1;33m\u001b[0m\u001b[1;33m\u001b[0m\u001b[0m\n",
      "\u001b[1;31mOSError\u001b[0m: CURRENT"
     ]
    }
   ],
   "source": [
    "# Get the current project.\n",
    "project = arcpy.mp.ArcGISProject(\"CURRENT\")\n",
    "[m.name for m in project.listMaps()]\n",
    "# Get the currently active map.\n",
    "mapp = project.activeMap\n",
    "\n",
    "# Get the  layers.\n",
    "eco4 = mapp.listLayers('eco4_crop')[0]\n",
    "eco2 = mapp.listLayers('eco3_crop')[0]\n",
    "rock = mapp.listLayers('rock_crop.tif')[0]\n",
    "nlcd = mapp.listLayers('nlcd_crop.tif')[0]\n",
    "lyr_list = [eco2,eco4,rock,nlcd]\n",
    "print(lyr_list)\n",
    "\n",
    "trail_lyr = mapp.listLayers(filename)[0]\n",
    "\n",
    "lyr_names = [\"Ecoregion Classificaiton III\",\"Ecoregion Classificaiton IV\",\"Type of Lithology\" , \"Landcover\"]"
   ]
  }
 ],
 "metadata": {
  "kernelspec": {
   "display_name": "raster_proj",
   "language": "python",
   "name": "firstenv"
  },
  "language_info": {
   "codemirror_mode": {
    "name": "ipython",
    "version": 3
   },
   "file_extension": ".py",
   "mimetype": "text/x-python",
   "name": "python",
   "nbconvert_exporter": "python",
   "pygments_lexer": "ipython3",
   "version": "3.7.10"
  }
 },
 "nbformat": 4,
 "nbformat_minor": 4
}
