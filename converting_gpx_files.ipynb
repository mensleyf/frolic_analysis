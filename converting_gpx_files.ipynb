{
 "cells": [
  {
   "cell_type": "code",
   "execution_count": 1,
   "metadata": {},
   "outputs": [],
   "source": [
    "filename=\"C:/Users/A02315404/Downloads/Fischer_towers.gpx\"\n"
   ]
  },
  {
   "cell_type": "code",
   "execution_count": 5,
   "metadata": {},
   "outputs": [],
   "source": [
    "import arcpy\n",
    "import os\n",
    "arcpy.CheckOutExtension('spatial')\n",
    "\n",
    "in_folder = r'C:\\Users\\A02315404\\Documents\\python\\frolic_analysis\\data_gpx_files'\n",
    "out_folder = r'C:\\Users\\A02315404\\Documents\\python\\frolic_analysis\\data_converted'\n",
    "#filename = \"Temple_Fork\"\n",
    "arcpy.env.workspace = in_folder\n",
    "\n",
    "arcpy.overwriteoutput = True\n"
   ]
  },
  {
   "cell_type": "code",
   "execution_count": 4,
   "metadata": {},
   "outputs": [
    {
     "name": "stdout",
     "output_type": "stream",
     "text": [
      "C:/Users/A02315404/Downloads/Fischer_towers.gpx \n",
      " C:/Users/A02315404/Downloads/Fischer_towers.gpx.shp \n",
      " C:/Users/A02315404/Downloads/Fischer_towers.gpx.tif\n"
     ]
    }
   ],
   "source": [
    "#folder, filename = os.path.split(output_name)\n",
    "#input_name = os.path.join(in_folder, filename) + \".gpx\"\n",
    "input_name = filename\n",
    "output_name_shp = os.path.join(out_folder, filename)+ \".shp\"\n",
    "output_name_tif = os.path.join(out_folder, filename)+ \".tif\"\n",
    "\n",
    "print(input_name,\"\\n\", output_name_shp, \"\\n\", output_name_tif)"
   ]
  },
  {
   "cell_type": "markdown",
   "metadata": {},
   "source": [
    "# Creates .shp file in 'data_converted' folder"
   ]
  },
  {
   "cell_type": "code",
   "execution_count": 3,
   "metadata": {},
   "outputs": [
    {
     "data": {
      "text/html": [
       "<h2>Output</h2>C:\\Users\\A02315404\\Documents\\python\\frolic_analysis\\data_converted\\Temple_Fork.shp<h2>Messages</h2>Start Time: Friday, April 23, 2021 11:55:34 AM<br/>Succeeded at Friday, April 23, 2021 11:55:36 AM (Elapsed Time: 1.77 seconds)<br/><style>.rendered_html td, .rendered_html th {text-align: left;}.rendered_html tbody {border: 1px solid black;}</style>"
      ],
      "text/plain": [
       "<Result 'C:\\\\Users\\\\A02315404\\\\Documents\\\\python\\\\frolic_analysis\\\\data_converted\\\\Temple_Fork.shp'>"
      ]
     },
     "execution_count": 3,
     "metadata": {},
     "output_type": "execute_result"
    }
   ],
   "source": [
    "#arcpy.GPXtoFeatures_conversion(input_name, output_name_shp)\n"
   ]
  },
  {
   "cell_type": "markdown",
   "metadata": {},
   "source": [
    "# Creates .tif file in data_converted"
   ]
  },
  {
   "cell_type": "code",
   "execution_count": 24,
   "metadata": {},
   "outputs": [
    {
     "data": {
      "text/html": [
       "<h2>Output</h2>C:\\Users\\A02315404\\Documents\\python\\frolic_analysis\\data_converted\\Navajo_Knobs.tif<h2>Messages</h2>Start Time: Wednesday, April 21, 2021 8:50:36 AM<br/>Succeeded at Wednesday, April 21, 2021 8:50:37 AM (Elapsed Time: 0.62 seconds)<br/><style>.rendered_html td, .rendered_html th {text-align: left;}.rendered_html tbody {border: 1px solid black;}</style>"
      ],
      "text/plain": [
       "<Result 'C:\\\\Users\\\\A02315404\\\\Documents\\\\python\\\\frolic_analysis\\\\data_converted\\\\Navajo_Knobs.tif'>"
      ]
     },
     "execution_count": 24,
     "metadata": {},
     "output_type": "execute_result"
    }
   ],
   "source": [
    "arcpy.conversion.PointToRaster(in_features=output_name_shp, \n",
    "                               value_field='FID', \n",
    "                               out_rasterdataset=output_name_tif)\n",
    "\n",
    "# Convert the GPX file into in_memory features\n",
    "#arcpy.GPXtoFeatures_conversion('c:\\\\GPX_Files\\\\MultiHike.gpx', 'in_memory\\hikes')\n",
    "\n",
    "# Select only the track points\n",
    "#arcpy.SelectLayerByAttribute_management('in_memory\\hikes', 'NEW_SELECTION', \"\\\"Type\\\" = 'TRKPT'\")\n",
    "\n",
    "# Convert the tracks into lines. The 'Name' field creates unique tracks.\n",
    "#arcpy.management.PointsToLine(Input_Features, Output_Feature_Class, {Line_Field}, {Sort_Field}, {Close_Line})"
   ]
  }
 ],
 "metadata": {
  "kernelspec": {
   "display_name": "raster_proj",
   "language": "python",
   "name": "firstenv"
  },
  "language_info": {
   "codemirror_mode": {
    "name": "ipython",
    "version": 3
   },
   "file_extension": ".py",
   "mimetype": "text/x-python",
   "name": "python",
   "nbconvert_exporter": "python",
   "pygments_lexer": "ipython3",
   "version": "3.7.10"
  },
  "toc": {
   "base_numbering": 1,
   "nav_menu": {},
   "number_sections": true,
   "sideBar": true,
   "skip_h1_title": false,
   "title_cell": "Table of Contents",
   "title_sidebar": "Contents",
   "toc_cell": false,
   "toc_position": {},
   "toc_section_display": true,
   "toc_window_display": false
  }
 },
 "nbformat": 4,
 "nbformat_minor": 4
}
